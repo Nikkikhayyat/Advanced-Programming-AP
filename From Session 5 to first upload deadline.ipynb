{
 "cells": [
  {
   "cell_type": "markdown",
   "id": "1a7985d2-918c-4058-99b2-5f277af9e384",
   "metadata": {},
   "source": [
    "# Session 5 "
   ]
  },
  {
   "cell_type": "code",
   "execution_count": 79,
   "id": "fab1cb71-a81d-4887-9563-ae7c3af315f4",
   "metadata": {},
   "outputs": [],
   "source": [
    "integerAddition = 55 * 66 #camelCase "
   ]
  },
  {
   "cell_type": "code",
   "execution_count": 81,
   "id": "941adc26-9125-4ca5-b4e7-202cac618bc7",
   "metadata": {},
   "outputs": [],
   "source": [
    "integer_addition = 55 * 67 #snake_Case "
   ]
  },
  {
   "cell_type": "code",
   "execution_count": 83,
   "id": "00a77514-7601-4453-8150-c367d0ea1db6",
   "metadata": {},
   "outputs": [],
   "source": [
    "myName = 'Nikki' #camelCase "
   ]
  },
  {
   "cell_type": "code",
   "execution_count": 85,
   "id": "39dbcb95-d7bb-44cf-ba7e-09a7192ca97a",
   "metadata": {},
   "outputs": [],
   "source": [
    "my_name = 'Nikki' #snake_case "
   ]
  },
  {
   "cell_type": "code",
   "execution_count": 87,
   "id": "7bd4af7b-f577-4197-99c9-91966a875d4c",
   "metadata": {},
   "outputs": [
    {
     "name": "stdout",
     "output_type": "stream",
     "text": [
      "Nikki\n"
     ]
    }
   ],
   "source": [
    "print(myName) "
   ]
  },
  {
   "cell_type": "code",
   "execution_count": 89,
   "id": "7a865c33-2508-4a5c-8e8a-115de5798de3",
   "metadata": {},
   "outputs": [
    {
     "data": {
      "text/plain": [
       "5"
      ]
     },
     "execution_count": 89,
     "metadata": {},
     "output_type": "execute_result"
    }
   ],
   "source": [
    "len(myName) #shomaresh "
   ]
  },
  {
   "cell_type": "code",
   "execution_count": 91,
   "id": "e2a35c97-e044-4579-95dd-292208f3a3bc",
   "metadata": {},
   "outputs": [
    {
     "name": "stdout",
     "output_type": "stream",
     "text": [
      "N\n"
     ]
    }
   ],
   "source": [
    "print(myName[0]) #Harf avale esme man "
   ]
  },
  {
   "cell_type": "code",
   "execution_count": 92,
   "id": "e224453d-2246-4b99-9dd5-fb1507310ead",
   "metadata": {},
   "outputs": [
    {
     "name": "stdout",
     "output_type": "stream",
     "text": [
      "k\n"
     ]
    }
   ],
   "source": [
    "print(myName[3]) #Harf sevom esme man"
   ]
  },
  {
   "cell_type": "code",
   "execution_count": 95,
   "id": "7684f8c1-f8f1-460f-9049-3bbf3230387a",
   "metadata": {},
   "outputs": [
    {
     "data": {
      "text/plain": [
       "'i'"
      ]
     },
     "execution_count": 95,
     "metadata": {},
     "output_type": "execute_result"
    }
   ],
   "source": [
    "myName[1]"
   ]
  },
  {
   "cell_type": "code",
   "execution_count": 97,
   "id": "88713c37-6f8b-4815-a578-b5bde6ae4061",
   "metadata": {},
   "outputs": [
    {
     "data": {
      "text/plain": [
       "'i'"
      ]
     },
     "execution_count": 97,
     "metadata": {},
     "output_type": "execute_result"
    }
   ],
   "source": [
    "myName[-1] #harf akhar"
   ]
  },
  {
   "cell_type": "code",
   "execution_count": 99,
   "id": "bb5a1a2a-ebc4-4618-9ea9-57a3fbb72ba5",
   "metadata": {},
   "outputs": [
    {
     "data": {
      "text/plain": [
       "1"
      ]
     },
     "execution_count": 99,
     "metadata": {},
     "output_type": "execute_result"
    }
   ],
   "source": [
    "len(myName[-1]) #Eshtebahhhhhh"
   ]
  },
  {
   "cell_type": "code",
   "execution_count": 101,
   "id": "a7d23640-b005-4fbd-882f-e424002632ee",
   "metadata": {},
   "outputs": [
    {
     "data": {
      "text/plain": [
       "'i'"
      ]
     },
     "execution_count": 101,
     "metadata": {},
     "output_type": "execute_result"
    }
   ],
   "source": [
    "myName[len(myName)-1]"
   ]
  },
  {
   "cell_type": "markdown",
   "id": "b505a897-558d-4ec2-bf70-51a0e22d493e",
   "metadata": {},
   "source": [
    "## در کروشه ی لِن فقط مجاز هستیم به تعداد حروف موجود عدد وارد کرد در غیر این صورت ارور می دهد\n",
    "## چون اعداد در برنامه نویسی از 0 شروع می شوند عدد داخل کروشه یکی کمتر می شود\n",
    "## به عنوان مثال : نیکی 4 کاراکتری می شود "
   ]
  },
  {
   "cell_type": "code",
   "execution_count": 104,
   "id": "34b8aad2-8aa1-46fe-84bc-aa3166470fc5",
   "metadata": {},
   "outputs": [
    {
     "data": {
      "text/plain": [
       "'i'"
      ]
     },
     "execution_count": 104,
     "metadata": {},
     "output_type": "execute_result"
    }
   ],
   "source": [
    "myName[4]"
   ]
  },
  {
   "cell_type": "code",
   "execution_count": 106,
   "id": "4f53dc88-b7db-49d5-8e57-2e9e5cc9b9eb",
   "metadata": {},
   "outputs": [
    {
     "ename": "IndexError",
     "evalue": "string index out of range",
     "output_type": "error",
     "traceback": [
      "\u001b[1;31m---------------------------------------------------------------------------\u001b[0m",
      "\u001b[1;31mIndexError\u001b[0m                                Traceback (most recent call last)",
      "Cell \u001b[1;32mIn[106], line 1\u001b[0m\n\u001b[1;32m----> 1\u001b[0m myName[\u001b[38;5;241m5\u001b[39m]\n",
      "\u001b[1;31mIndexError\u001b[0m: string index out of range"
     ]
    }
   ],
   "source": [
    "myName[5] #Error "
   ]
  },
  {
   "cell_type": "code",
   "execution_count": 108,
   "id": "b0fc52d9-499a-4003-98d9-07a3d24e8af3",
   "metadata": {},
   "outputs": [
    {
     "data": {
      "text/plain": [
       "'Nikki'"
      ]
     },
     "execution_count": 108,
     "metadata": {},
     "output_type": "execute_result"
    }
   ],
   "source": [
    "myName[0:5]"
   ]
  },
  {
   "cell_type": "code",
   "execution_count": 110,
   "id": "9f78d65c-400a-4413-817b-f3869ea5fd61",
   "metadata": {},
   "outputs": [
    {
     "data": {
      "text/plain": [
       "'ik'"
      ]
     },
     "execution_count": 110,
     "metadata": {},
     "output_type": "execute_result"
    }
   ],
   "source": [
    "myName[1:3]"
   ]
  },
  {
   "cell_type": "code",
   "execution_count": 112,
   "id": "98b2d606-9d6d-4724-bfcd-5ea1e3bfc09e",
   "metadata": {},
   "outputs": [
    {
     "data": {
      "text/plain": [
       "'i'"
      ]
     },
     "execution_count": 112,
     "metadata": {},
     "output_type": "execute_result"
    }
   ],
   "source": [
    "myName[1]"
   ]
  },
  {
   "cell_type": "code",
   "execution_count": 114,
   "id": "8284a1e0-2375-41b7-bb35-b26b345c3db9",
   "metadata": {},
   "outputs": [
    {
     "data": {
      "text/plain": [
       "'k'"
      ]
     },
     "execution_count": 114,
     "metadata": {},
     "output_type": "execute_result"
    }
   ],
   "source": [
    "myName[2]"
   ]
  },
  {
   "cell_type": "code",
   "execution_count": 116,
   "id": "30ed467b-0546-4197-baf9-56a45dc95eb2",
   "metadata": {},
   "outputs": [
    {
     "data": {
      "text/plain": [
       "'k'"
      ]
     },
     "execution_count": 116,
     "metadata": {},
     "output_type": "execute_result"
    }
   ],
   "source": [
    "myName[3]"
   ]
  },
  {
   "cell_type": "code",
   "execution_count": 118,
   "id": "a48c0da2-4588-40f2-89ac-5cb46b9b6229",
   "metadata": {},
   "outputs": [
    {
     "data": {
      "text/plain": [
       "'NikkiKhayyat'"
      ]
     },
     "execution_count": 118,
     "metadata": {},
     "output_type": "execute_result"
    }
   ],
   "source": [
    "mySurname = 'Khayyat'\n",
    "myFullName = myName + mySurname\n",
    "myFullName"
   ]
  },
  {
   "cell_type": "code",
   "execution_count": 120,
   "id": "033a8065-e111-4df0-bf99-ed93a28b0bcc",
   "metadata": {},
   "outputs": [
    {
     "ename": "TypeError",
     "evalue": "can't multiply sequence by non-int of type 'str'",
     "output_type": "error",
     "traceback": [
      "\u001b[1;31m---------------------------------------------------------------------------\u001b[0m",
      "\u001b[1;31mTypeError\u001b[0m                                 Traceback (most recent call last)",
      "Cell \u001b[1;32mIn[120], line 1\u001b[0m\n\u001b[1;32m----> 1\u001b[0m myName \u001b[38;5;241m*\u001b[39m myName\n",
      "\u001b[1;31mTypeError\u001b[0m: can't multiply sequence by non-int of type 'str'"
     ]
    }
   ],
   "source": [
    "myName * myName"
   ]
  },
  {
   "cell_type": "code",
   "execution_count": 122,
   "id": "9555d68f-9675-45db-8186-25cce369105c",
   "metadata": {},
   "outputs": [
    {
     "name": "stdout",
     "output_type": "stream",
     "text": [
      "2\n",
      "HelloHello\n"
     ]
    }
   ],
   "source": [
    "_Int = 1\n",
    "tempInt = 1\n",
    "tempStr = 'Hello'\n",
    "print(tempInt*2)\n",
    "print(tempStr*2)       # neveshteh ra be tedad minevisad\n",
    "temp = \"\"\"lmnopqrst\n",
    "uvw\n",
    "xyz\n",
    "hehehehe\"\"\""
   ]
  },
  {
   "cell_type": "code",
   "execution_count": 124,
   "id": "0edb5907-6a3b-493e-9062-f607109390ed",
   "metadata": {},
   "outputs": [
    {
     "data": {
      "text/plain": [
       "'Nikki'"
      ]
     },
     "execution_count": 124,
     "metadata": {},
     "output_type": "execute_result"
    }
   ],
   "source": [
    "myName "
   ]
  },
  {
   "cell_type": "code",
   "execution_count": 126,
   "id": "36193d35-9335-4435-9c27-e6002a1a4597",
   "metadata": {},
   "outputs": [
    {
     "data": {
      "text/plain": [
       "1"
      ]
     },
     "execution_count": 126,
     "metadata": {},
     "output_type": "execute_result"
    }
   ],
   "source": [
    "myName.find('ik')"
   ]
  },
  {
   "cell_type": "code",
   "execution_count": 128,
   "id": "7f0ea0d0-9100-42d3-a5df-17d28a54ceb2",
   "metadata": {},
   "outputs": [],
   "source": [
    "_str = \"abcdaefg\""
   ]
  },
  {
   "cell_type": "code",
   "execution_count": 130,
   "id": "3095972d-0fa2-480c-a9c7-7bc5e50e59f2",
   "metadata": {},
   "outputs": [
    {
     "data": {
      "text/plain": [
       "0"
      ]
     },
     "execution_count": 130,
     "metadata": {},
     "output_type": "execute_result"
    }
   ],
   "source": [
    "_str.find(\"a\")"
   ]
  },
  {
   "cell_type": "markdown",
   "id": "a8546f1f-7796-439d-b1a6-a8a02ce4f239",
   "metadata": {},
   "source": [
    "# Session 6 "
   ]
  },
  {
   "cell_type": "code",
   "execution_count": 133,
   "id": "1acb0432-7aff-42ae-84f9-85f25e565ea2",
   "metadata": {},
   "outputs": [
    {
     "data": {
      "text/plain": [
       "True"
      ]
     },
     "execution_count": 133,
     "metadata": {},
     "output_type": "execute_result"
    }
   ],
   "source": [
    "a = 2 \n",
    "b = a \n",
    "a is b"
   ]
  },
  {
   "cell_type": "code",
   "execution_count": 135,
   "id": "666e3223-8438-4062-80b2-4f7c757a0cd5",
   "metadata": {},
   "outputs": [
    {
     "data": {
      "text/plain": [
       "True"
      ]
     },
     "execution_count": 135,
     "metadata": {},
     "output_type": "execute_result"
    }
   ],
   "source": [
    "a == b "
   ]
  },
  {
   "cell_type": "code",
   "execution_count": 137,
   "id": "ec27f3f9-6cf3-445b-9ba2-65d5e4d55956",
   "metadata": {},
   "outputs": [],
   "source": [
    "a = 2 \n",
    "b = 2"
   ]
  },
  {
   "cell_type": "code",
   "execution_count": 139,
   "id": "0cb7dc19-1dc6-40ab-9471-c2f39d32cb6e",
   "metadata": {},
   "outputs": [
    {
     "data": {
      "text/plain": [
       "True"
      ]
     },
     "execution_count": 139,
     "metadata": {},
     "output_type": "execute_result"
    }
   ],
   "source": [
    "a is b "
   ]
  },
  {
   "cell_type": "code",
   "execution_count": 140,
   "id": "b8ee92f8-0b12-43ce-b7c3-cf937eb720b3",
   "metadata": {},
   "outputs": [
    {
     "data": {
      "text/plain": [
       "True"
      ]
     },
     "execution_count": 140,
     "metadata": {},
     "output_type": "execute_result"
    }
   ],
   "source": [
    "a == b "
   ]
  },
  {
   "cell_type": "markdown",
   "id": "4c0a5471-7bc0-42c2-90e3-dd9d6aef0491",
   "metadata": {},
   "source": [
    "### Exercise \n",
    "یک صفحه ی ویکی پدیای پایتون را کپی کنید و ببینید چند کلمه ی پایتون در آن وجود دارد "
   ]
  },
  {
   "cell_type": "code",
   "execution_count": 144,
   "id": "53e87493-748a-4924-9334-4b1019b62703",
   "metadata": {},
   "outputs": [],
   "source": [
    "text = \"\"\" Python is a high-level, general-purpose programming language. Its design philosophy emphasizes code readability with the use of significant indentation.\n",
    "\n",
    "Python is dynamically typed and garbage-collected. It supports multiple programming paradigms, including structured (particularly procedural), object-oriented and functional programming. It is often described as a batteries included language due to its comprehensive standard library.\n",
    "\n",
    "Guido van Rossum began working on Python in the late 1980s as a successor to the ABC programming language and first released it in 1991 as Python 0.9.0. Python 2.0 was released in 2000. Python 3.0, released in 2008, was a major revision not completely backward-compatible with earlier versions. Python 2.7.18, released in 2020, was the last release of Python 2.[36]\n",
    "\n",
    "Python consistently ranks as one of the most popular programming languages, and has gained widespread use in the machine learning community.\n",
    "\n",
    "History\n",
    "Main article: History of Python\n",
    "\n",
    "The designer of Python, Guido van Rossum, at OSCON 2006\n",
    "Python was invented in the late 1980s by Guido van Rossum at Centrum Wiskunde & Informatica in the Netherlands as a successor to the ABC programming language, which was inspired by SETL, capable of exception handling and interfacing with the Amoeba operating system. Its implementation began in December 1989. Van Rossum shouldered sole responsibility for the project, as the lead developer, until 12 July 2018, when he announced his \"permanent vacation\" from his responsibilities as Python's \"benevolent dictator for life\" BDFL, a title the Python community bestowed upon him to reflect his long-term commitment as the project's chief decision-maker he has since come out of retirement and is self-titled \"BDFL-emeritus\". In January 2019, active Python core developers elected a five-member Steering Council to lead the project.\n",
    "\n",
    "Python 2.0 was released on 16 October 2000, with many major new features such as list comprehensions, cycle-detecting garbage collection, reference counting, and Unicode support. Python 3.0 was released on 3 December 2008, with many of its major features backported to Python 2.6.x 48 and 2.7.x. Releases of Python 3 include the 2to3 utility, which automates the translation of Python 2 code to Python 3.\n",
    "\n",
    "Python 2.7's end-of-life was initially set for 2015, then postponed to 2020 out of concern that a large body of existing code could not easily be forward-ported to Python 3. No further security patches or other improvements will be released for it. Currently only 3.9 and later are supported 2023 security issues were fixed in e.g. 3.7.17, the final 3.7.x release. While Python 2.7 and older is officially unsupported, a different unofficial Python implementation, PyPy, continues to support Python 2, i.e. \"2.7.18+\" plus 3.10, with the plus meaning at least some \"backported security updates\".\n",
    "\n",
    "In 2021 and again twice in 2022, and in September 2024 for Python 3.12.6 down to 3.8.20, security updates were expedited, since all Python versions were insecure including 2.7 because of security issues leading to possible remote code execution and web-cache poisoning. In 2022, Python 3.10.4 and 3.9.12 were expedited and 3.8.13, because of many security issues. When Python 3.9.13 was released in May 2022, it was announced that the 3.9 series joining the older series 3.8 and 3.7 would only receive security fixes in the future. On 7 September 2022, four new releases were made due to a potential denial-of-service attack: 3.10.7, 3.9.14, 3.8.14, and 3.7.14.\n",
    "\n",
    "Every Python release since 3.5 has added some syntax to the language. 3.10 added the | union type operator and the match and case keywords for structural pattern matching statements. 3.11 expanded exception handling functionality. Python 3.12 added the new keyword type. Notable changes in 3.11 from 3.10 include increased program execution speed and improved error reporting. Python 3.11 claims to be between 10 and 60% faster than Python 3.10, and Python 3.12 adds another 5% on top of that. It also has improved error messages, and many other changes.\n",
    "\n",
    "Python 3.13 introduces more syntax for types, a new and improved interactive interpreter REPL, featuring multi-line editing and color support; an incremental garbage collector producing shorter pauses for collection in programs with a lot of objects, and addition to the improved speed in 3.11 and 3.12, and an experimental just-in-time JIT compiler such features, can or needs to be enabled specifically for the increase in speed, and an experimental free-threaded build mode, which disables the global interpreter lock GIL, allowing threads to run more concurrently, that latter feature enabled with python3.13t or python3.13t.exe.\n",
    "\n",
    "Python 3.13 introduces some change in behavior, i.e. new well-defined semantics, fixing bugs plus many removals of deprecated classes, functions and methods, and removed some of the C API and outdated modules \"The old implementation of locals and frame.f_locals is slow, inconsistent and buggy has many corner cases and oddities. Code that works around those may need to be changed. Code that uses locals for simple templating, or print debugging, will continue to work correctly.\n",
    "\n",
    "Since 7 October 2024, Python 3.13 is the latest stable release, and 3.13 and 3.12 are the only versions with active as opposed to just security support and Python 3.9 is the oldest supported version of Python albeit in the 'security support' phase, due to Python 3.8 reaching end-of-life. Starting with 3.13, it and later versions have 2 years of full support up from one and a half; followed by 3 years of security support for same total support as before).\n",
    "\n",
    "Some more standard library modules and many deprecated classes, functions and methods, will be removed in Python 3.15 or 3.16.\"\"\"\n"
   ]
  },
  {
   "cell_type": "code",
   "execution_count": 146,
   "id": "bbf4bd99-892a-4db2-901c-f05a60f5cbab",
   "metadata": {},
   "outputs": [
    {
     "data": {
      "text/plain": [
       "4701"
      ]
     },
     "execution_count": 146,
     "metadata": {},
     "output_type": "execute_result"
    }
   ],
   "source": [
    "text.find('python')"
   ]
  },
  {
   "cell_type": "code",
   "execution_count": 148,
   "id": "6c5bd615-6da7-414e-adcb-0ec8b06fe876",
   "metadata": {},
   "outputs": [
    {
     "name": "stdout",
     "output_type": "stream",
     "text": [
      "Substring found: 42 times.\n"
     ]
    }
   ],
   "source": [
    "substring = \"Python\"  \n",
    "count = 0  \n",
    "index = 0  \n",
    "while index != -1:  \n",
    "    index = text.find(substring, index)  \n",
    "    if index != -1:  \n",
    "        count += 1  \n",
    "        index += len(substring)  # Move past the current index  \n",
    "\n",
    "print(\"Substring found:\", count, \"times.\")   "
   ]
  },
  {
   "cell_type": "code",
   "execution_count": 150,
   "id": "7a7d70f9-a40a-4796-a093-6d86b9acecc8",
   "metadata": {},
   "outputs": [
    {
     "name": "stdout",
     "output_type": "stream",
     "text": [
      "1\n"
     ]
    }
   ],
   "source": [
    "word = text.find(\"Python\")  \n",
    "print(word)"
   ]
  },
  {
   "cell_type": "code",
   "execution_count": 152,
   "id": "173ecb25-5891-4e3a-919f-1dc6a3ee10a1",
   "metadata": {},
   "outputs": [
    {
     "data": {
      "text/plain": [
       "'N'"
      ]
     },
     "execution_count": 152,
     "metadata": {},
     "output_type": "execute_result"
    }
   ],
   "source": [
    "myFullName[0] "
   ]
  },
  {
   "cell_type": "code",
   "execution_count": 154,
   "id": "abb4f501-1098-4121-a67a-46770ee75f78",
   "metadata": {},
   "outputs": [
    {
     "ename": "TypeError",
     "evalue": "'str' object does not support item assignment",
     "output_type": "error",
     "traceback": [
      "\u001b[1;31m---------------------------------------------------------------------------\u001b[0m",
      "\u001b[1;31mTypeError\u001b[0m                                 Traceback (most recent call last)",
      "Cell \u001b[1;32mIn[154], line 1\u001b[0m\n\u001b[1;32m----> 1\u001b[0m myFullName[\u001b[38;5;241m0\u001b[39m] \u001b[38;5;241m=\u001b[39m \u001b[38;5;124m'\u001b[39m\u001b[38;5;124me\u001b[39m\u001b[38;5;124m'\u001b[39m\n",
      "\u001b[1;31mTypeError\u001b[0m: 'str' object does not support item assignment"
     ]
    }
   ],
   "source": [
    "myFullName[0] = 'e'     ### dar inja nemitavan baraye string character avaz kar "
   ]
  },
  {
   "cell_type": "code",
   "execution_count": 156,
   "id": "3e1aecd9-c150-4725-9690-5f0b6b59aea7",
   "metadata": {},
   "outputs": [],
   "source": [
    "myFatherName = 'Amir'"
   ]
  },
  {
   "cell_type": "code",
   "execution_count": 158,
   "id": "f62230d7-1f70-4acd-ac07-dfd580eba5b4",
   "metadata": {},
   "outputs": [
    {
     "data": {
      "text/plain": [
       "'Nikki'"
      ]
     },
     "execution_count": 158,
     "metadata": {},
     "output_type": "execute_result"
    }
   ],
   "source": [
    "myName "
   ]
  },
  {
   "cell_type": "code",
   "execution_count": 160,
   "id": "9a5d4776-89da-4b76-a834-a23fbd524bc7",
   "metadata": {},
   "outputs": [
    {
     "data": {
      "text/plain": [
       "'NikkiKhayyat'"
      ]
     },
     "execution_count": 160,
     "metadata": {},
     "output_type": "execute_result"
    }
   ],
   "source": [
    "myFullName = myName + mySurname\n",
    "myFullName"
   ]
  },
  {
   "cell_type": "markdown",
   "id": "228918f9-0daa-44f2-b6d8-2465356e5055",
   "metadata": {},
   "source": [
    "### in myFullName it finds my full name. in myName it finds my name without surname. in myFatherName it replaces my name with my father's."
   ]
  },
  {
   "cell_type": "code",
   "execution_count": 163,
   "id": "5cbcac3a-31ec-4480-ba55-ac1b84b21f80",
   "metadata": {},
   "outputs": [
    {
     "data": {
      "text/plain": [
       "'AmirKhayyat'"
      ]
     },
     "execution_count": 163,
     "metadata": {},
     "output_type": "execute_result"
    }
   ],
   "source": [
    "myFatherFullName = myFullName.replace(myName, myFatherName)\n",
    "myFatherFullName"
   ]
  },
  {
   "cell_type": "code",
   "execution_count": 165,
   "id": "20c80f78-71a8-498f-9cfe-c79fdc69bcce",
   "metadata": {},
   "outputs": [
    {
     "data": {
      "text/plain": [
       "'NikkiKhayyatNikkiKhayyat'"
      ]
     },
     "execution_count": 165,
     "metadata": {},
     "output_type": "execute_result"
    }
   ],
   "source": [
    "myDoubleFullName = myFullName * 2\n",
    "myDoubleFullName"
   ]
  },
  {
   "cell_type": "code",
   "execution_count": 167,
   "id": "8599a7b6-7b89-4b6e-ae63-0445f6a2a7e4",
   "metadata": {},
   "outputs": [
    {
     "data": {
      "text/plain": [
       "'AmirKhayyatAmirKhayyat'"
      ]
     },
     "execution_count": 167,
     "metadata": {},
     "output_type": "execute_result"
    }
   ],
   "source": [
    "myFatherDoubleFullName = myDoubleFullName.replace(myName, myFatherName)\n",
    "myFatherDoubleFullName"
   ]
  },
  {
   "cell_type": "code",
   "execution_count": 169,
   "id": "3a7e3225-f5ed-4dbd-8336-498d2cebc4a4",
   "metadata": {},
   "outputs": [
    {
     "data": {
      "text/plain": [
       "'NIKKI'"
      ]
     },
     "execution_count": 169,
     "metadata": {},
     "output_type": "execute_result"
    }
   ],
   "source": [
    "myName.upper()"
   ]
  },
  {
   "cell_type": "code",
   "execution_count": 171,
   "id": "9c4ae694-5e6c-4674-bed6-05888c439d52",
   "metadata": {},
   "outputs": [
    {
     "data": {
      "text/plain": [
       "True"
      ]
     },
     "execution_count": 171,
     "metadata": {},
     "output_type": "execute_result"
    }
   ],
   "source": [
    "myName.isalpha()"
   ]
  },
  {
   "cell_type": "code",
   "execution_count": 173,
   "id": "e49f86d2-eb32-44cf-8ea2-4667936ed5ed",
   "metadata": {},
   "outputs": [],
   "source": [
    "myTachersName = 'Amir hoshang Hoseinpour Dehkordi'"
   ]
  },
  {
   "cell_type": "code",
   "execution_count": 175,
   "id": "638f8536-5da5-474f-bc91-3b7c11b8ae1b",
   "metadata": {},
   "outputs": [
    {
     "data": {
      "text/plain": [
       "['Amir', 'hoshang', 'Hoseinpour', 'Dehkordi']"
      ]
     },
     "execution_count": 175,
     "metadata": {},
     "output_type": "execute_result"
    }
   ],
   "source": [
    "splitedTeachersName = myTachersName.split(' ')\n",
    "splitedTeachersName"
   ]
  },
  {
   "cell_type": "code",
   "execution_count": 177,
   "id": "6add3be2-0a77-4b14-868d-5712ae7e05ee",
   "metadata": {},
   "outputs": [
    {
     "data": {
      "text/plain": [
       "['Amir,hoshang,Hoseinpour,Dehkordi']"
      ]
     },
     "execution_count": 177,
     "metadata": {},
     "output_type": "execute_result"
    }
   ],
   "source": [
    "myCammaTeachersName = 'Amir,hoshang,Hoseinpour,Dehkordi'\n",
    "splitedCammaTeachersName = myCammaTeachersName.split(' ')\n",
    "splitedCammaTeachersName"
   ]
  },
  {
   "cell_type": "code",
   "execution_count": 179,
   "id": "2d2dc7d7-e8bc-47ea-b6aa-d5d040af2359",
   "metadata": {},
   "outputs": [
    {
     "data": {
      "text/plain": [
       "['17;47;33']"
      ]
     },
     "execution_count": 179,
     "metadata": {},
     "output_type": "execute_result"
    }
   ],
   "source": [
    "time = '17;47;33'\n",
    "splitedTime = time.split(' ')\n",
    "splitedTime"
   ]
  },
  {
   "cell_type": "code",
   "execution_count": 181,
   "id": "23ea2ff9-a2ba-4272-b965-2284bd1973bc",
   "metadata": {},
   "outputs": [
    {
     "data": {
      "text/plain": [
       "['__add__',\n",
       " '__class__',\n",
       " '__contains__',\n",
       " '__delattr__',\n",
       " '__dir__',\n",
       " '__doc__',\n",
       " '__eq__',\n",
       " '__format__',\n",
       " '__ge__',\n",
       " '__getattribute__',\n",
       " '__getitem__',\n",
       " '__getnewargs__',\n",
       " '__getstate__',\n",
       " '__gt__',\n",
       " '__hash__',\n",
       " '__init__',\n",
       " '__init_subclass__',\n",
       " '__iter__',\n",
       " '__le__',\n",
       " '__len__',\n",
       " '__lt__',\n",
       " '__mod__',\n",
       " '__mul__',\n",
       " '__ne__',\n",
       " '__new__',\n",
       " '__reduce__',\n",
       " '__reduce_ex__',\n",
       " '__repr__',\n",
       " '__rmod__',\n",
       " '__rmul__',\n",
       " '__setattr__',\n",
       " '__sizeof__',\n",
       " '__str__',\n",
       " '__subclasshook__',\n",
       " 'capitalize',\n",
       " 'casefold',\n",
       " 'center',\n",
       " 'count',\n",
       " 'encode',\n",
       " 'endswith',\n",
       " 'expandtabs',\n",
       " 'find',\n",
       " 'format',\n",
       " 'format_map',\n",
       " 'index',\n",
       " 'isalnum',\n",
       " 'isalpha',\n",
       " 'isascii',\n",
       " 'isdecimal',\n",
       " 'isdigit',\n",
       " 'isidentifier',\n",
       " 'islower',\n",
       " 'isnumeric',\n",
       " 'isprintable',\n",
       " 'isspace',\n",
       " 'istitle',\n",
       " 'isupper',\n",
       " 'join',\n",
       " 'ljust',\n",
       " 'lower',\n",
       " 'lstrip',\n",
       " 'maketrans',\n",
       " 'partition',\n",
       " 'removeprefix',\n",
       " 'removesuffix',\n",
       " 'replace',\n",
       " 'rfind',\n",
       " 'rindex',\n",
       " 'rjust',\n",
       " 'rpartition',\n",
       " 'rsplit',\n",
       " 'rstrip',\n",
       " 'split',\n",
       " 'splitlines',\n",
       " 'startswith',\n",
       " 'strip',\n",
       " 'swapcase',\n",
       " 'title',\n",
       " 'translate',\n",
       " 'upper',\n",
       " 'zfill']"
      ]
     },
     "execution_count": 181,
     "metadata": {},
     "output_type": "execute_result"
    }
   ],
   "source": [
    "dir(myName)"
   ]
  },
  {
   "cell_type": "code",
   "execution_count": 183,
   "id": "26f438b3-bb4c-4eb5-8df3-f23b94344360",
   "metadata": {},
   "outputs": [
    {
     "name": "stdout",
     "output_type": "stream",
     "text": [
      "Help on built-in function upper:\n",
      "\n",
      "upper() method of builtins.str instance\n",
      "    Return a copy of the string converted to uppercase.\n",
      "\n"
     ]
    }
   ],
   "source": [
    "help(myName.upper)"
   ]
  },
  {
   "cell_type": "code",
   "execution_count": 185,
   "id": "f7feb507-e432-49f6-a038-4cf67980ee5c",
   "metadata": {},
   "outputs": [
    {
     "name": "stdout",
     "output_type": "stream",
     "text": [
      "A\n",
      "B\tc\n"
     ]
    }
   ],
   "source": [
    "tempString = 'A\\nB\\tc' #\\n is the end-of-line, \\t is tab\n",
    "print(tempString)"
   ]
  },
  {
   "cell_type": "code",
   "execution_count": 187,
   "id": "4ce34af4-2e44-4ce0-ba5d-c8d67e430aa1",
   "metadata": {},
   "outputs": [
    {
     "name": "stdout",
     "output_type": "stream",
     "text": [
      "Mohammad\n",
      "Ali\n"
     ]
    }
   ],
   "source": [
    "tS1 = 'Mohammad'\n",
    "tS2 = 'Ali'\n",
    "print(tS1 + \"\\n\" + tS2)"
   ]
  },
  {
   "cell_type": "code",
   "execution_count": 189,
   "id": "34d119fb-ae2d-4cdd-bb8e-2971515bc09e",
   "metadata": {},
   "outputs": [
    {
     "name": "stdout",
     "output_type": "stream",
     "text": [
      "Ali goft:\"salam\"\n"
     ]
    }
   ],
   "source": [
    "print(\"Ali goft:\\\"salam\\\"\")"
   ]
  },
  {
   "cell_type": "markdown",
   "id": "c5e0652e-4ca2-4867-aa16-53179a2c0c74",
   "metadata": {},
   "source": [
    "# Next Session we'll talk about Lists "
   ]
  },
  {
   "cell_type": "markdown",
   "id": "0fd5619b-8317-41dc-bb22-ec3f3486811a",
   "metadata": {},
   "source": [
    "# Session 7 Lists "
   ]
  },
  {
   "cell_type": "code",
   "execution_count": 193,
   "id": "4117dd81-f86e-4681-b369-cd712693a418",
   "metadata": {},
   "outputs": [
    {
     "name": "stdout",
     "output_type": "stream",
     "text": [
      "salam\n"
     ]
    }
   ],
   "source": [
    "if True:\n",
    "    print('salam')"
   ]
  },
  {
   "cell_type": "code",
   "execution_count": 195,
   "id": "f89deb52-a15a-4d71-92f0-269705ddf3c4",
   "metadata": {},
   "outputs": [],
   "source": [
    "if False:\n",
    "    print('salam')"
   ]
  },
  {
   "cell_type": "code",
   "execution_count": 197,
   "id": "a7bf58fa-ee94-4c8e-8fe1-4b08d3281adc",
   "metadata": {},
   "outputs": [
    {
     "name": "stdout",
     "output_type": "stream",
     "text": [
      "salam\n"
     ]
    }
   ],
   "source": [
    "if 3:\n",
    "    print('salam')"
   ]
  },
  {
   "cell_type": "code",
   "execution_count": 199,
   "id": "3c1bdc9a-1143-4104-8e0f-b7a8e478d899",
   "metadata": {},
   "outputs": [
    {
     "name": "stdout",
     "output_type": "stream",
     "text": [
      "salam\n"
     ]
    }
   ],
   "source": [
    "if 2:\n",
    "    print('salam')"
   ]
  },
  {
   "cell_type": "code",
   "execution_count": 201,
   "id": "31d0928f-fe3d-4f66-bd31-b082a74898d2",
   "metadata": {},
   "outputs": [
    {
     "name": "stdout",
     "output_type": "stream",
     "text": [
      "salam\n"
     ]
    }
   ],
   "source": [
    "if 1:\n",
    "    print('salam')"
   ]
  },
  {
   "cell_type": "code",
   "execution_count": 203,
   "id": "9d6b61d1-a7f3-48cd-9c24-b68a4e83dce7",
   "metadata": {},
   "outputs": [],
   "source": [
    "if 0:\n",
    "    print('salam')"
   ]
  },
  {
   "cell_type": "code",
   "execution_count": 205,
   "id": "fb9afb9e-dd0a-4a8a-86e9-daacbadfcad3",
   "metadata": {},
   "outputs": [
    {
     "name": "stdout",
     "output_type": "stream",
     "text": [
      "salam\n"
     ]
    }
   ],
   "source": [
    "if \"amir\":\n",
    "    print('salam')"
   ]
  },
  {
   "cell_type": "markdown",
   "id": "c5ddaa62-c14b-49ca-ac1e-e76f387eab5b",
   "metadata": {},
   "source": [
    "# جلوی دستور ایف، باید یک مقدار true یا false باشد"
   ]
  },
  {
   "cell_type": "code",
   "execution_count": 208,
   "id": "95121daa-2320-4688-872e-49932587c3ef",
   "metadata": {},
   "outputs": [
    {
     "name": "stdout",
     "output_type": "stream",
     "text": [
      "salam\n",
      "Hello\n"
     ]
    }
   ],
   "source": [
    "if \"amir\":\n",
    "    print('salam')\n",
    "print('Hello')"
   ]
  },
  {
   "cell_type": "code",
   "execution_count": 210,
   "id": "07adc812-2cdb-452d-9063-adc65c481a02",
   "metadata": {},
   "outputs": [
    {
     "name": "stdout",
     "output_type": "stream",
     "text": [
      "salam\n",
      "Hello\n"
     ]
    }
   ],
   "source": [
    "if \"amir\":\n",
    "    print('salam')\n",
    "    print('Hello')"
   ]
  },
  {
   "cell_type": "code",
   "execution_count": 212,
   "id": "7c5534a4-e16e-471a-8c3e-66cf6db94efe",
   "metadata": {},
   "outputs": [
    {
     "name": "stdout",
     "output_type": "stream",
     "text": [
      "salam\n",
      "Hello\n"
     ]
    }
   ],
   "source": [
    "if \"amir\":\n",
    "    print('salam')\n",
    "print('Hello')   # این دیگه جز دستور ایف نیست "
   ]
  },
  {
   "cell_type": "code",
   "execution_count": 214,
   "id": "88859014-b5ae-441b-80b8-50afe0e56b96",
   "metadata": {},
   "outputs": [
    {
     "name": "stdout",
     "output_type": "stream",
     "text": [
      "long\n"
     ]
    }
   ],
   "source": [
    "myName = 'Nikki'    # چک کنید ببینید اسم شما بیشتر از 5 حرف دارد یا نه\n",
    "if len(myName) >= 5:\n",
    "    print('long')"
   ]
  },
  {
   "cell_type": "code",
   "execution_count": 216,
   "id": "06053f27-c10d-4a10-86c6-13191bf66ad4",
   "metadata": {},
   "outputs": [
    {
     "name": "stdout",
     "output_type": "stream",
     "text": [
      "short\n"
     ]
    }
   ],
   "source": [
    "myName = 'Nik'   \n",
    "if len(myName) >= 5: \n",
    "    print('long')\n",
    "else:\n",
    "    print('short')"
   ]
  },
  {
   "cell_type": "code",
   "execution_count": 218,
   "id": "f11baa4b-4704-4450-84ca-189a4000b287",
   "metadata": {},
   "outputs": [
    {
     "name": "stdout",
     "output_type": "stream",
     "text": [
      "long\n"
     ]
    }
   ],
   "source": [
    "inputName = 'Amirali'   \n",
    "if len(inputName) > 5:\n",
    "    print('long')\n",
    "elif 3 < len(inputName) <= 5:\n",
    "    print('ordinary')\n",
    "elif len(inputName) <= 3:\n",
    "    print('short')"
   ]
  },
  {
   "cell_type": "code",
   "execution_count": 220,
   "id": "c2dd8d35-7735-4514-9918-dc4932771fcf",
   "metadata": {},
   "outputs": [
    {
     "name": "stdout",
     "output_type": "stream",
     "text": [
      "ordinary\n"
     ]
    }
   ],
   "source": [
    "inputName = 'Amir'   \n",
    "if len(inputName) > 5:\n",
    "    print('long')\n",
    "elif 3 < len(inputName):    # کد کوتاه تر\n",
    "    print('ordinary')\n",
    "elif len(inputName) <= 3:\n",
    "    print('short')"
   ]
  },
  {
   "cell_type": "code",
   "execution_count": 222,
   "id": "291c72f2-af1e-4607-84a5-8522891d4f1b",
   "metadata": {},
   "outputs": [
    {
     "name": "stdout",
     "output_type": "stream",
     "text": [
      "ordinary\n"
     ]
    }
   ],
   "source": [
    "inputName = 'Nikki'   \n",
    "if len(inputName) > 5:\n",
    "    print('long')\n",
    "elif 3 < len(inputName):    # کد کوتاه تر\n",
    "    print('ordinary')\n",
    "elif len(inputName) <= 3:\n",
    "    print('short')"
   ]
  },
  {
   "cell_type": "code",
   "execution_count": 224,
   "id": "22cc5d2d-419b-4808-a178-815353a48675",
   "metadata": {},
   "outputs": [
    {
     "name": "stdout",
     "output_type": "stream",
     "text": [
      "short\n"
     ]
    }
   ],
   "source": [
    "inputName = 'Ali'   \n",
    "if len(inputName) > 5:\n",
    "    print('long')\n",
    "elif 3 < len(inputName):    # کد کوتاه تر\n",
    "    print('ordinary')\n",
    "elif len(inputName) <= 3:\n",
    "    print('short')"
   ]
  },
  {
   "cell_type": "code",
   "execution_count": 226,
   "id": "cc8a074b-1fa2-4907-bdd8-c3de27f5b2de",
   "metadata": {},
   "outputs": [
    {
     "name": "stdout",
     "output_type": "stream",
     "text": [
      "zoj bozorg\n"
     ]
    }
   ],
   "source": [
    "inputAge = 23\n",
    "\n",
    "if inputAge < 20:\n",
    "    \n",
    "    if inputAge % 2 :\n",
    "        print('zoj koochak')\n",
    "        \n",
    "    else:\n",
    "        print('Fard koochak')\n",
    "else:\n",
    "    \n",
    "    if inputAge % 2 :\n",
    "        print('zoj bozorg')\n",
    "        \n",
    "    else:\n",
    "        print('Fard bozorg')"
   ]
  },
  {
   "cell_type": "markdown",
   "id": "da38b911-0735-4f2a-858e-50b1b9921c3d",
   "metadata": {},
   "source": [
    "## Loop "
   ]
  },
  {
   "cell_type": "code",
   "execution_count": 229,
   "id": "df9da549-4119-4b2a-b2a7-b57a055ed7dd",
   "metadata": {},
   "outputs": [
    {
     "name": "stdout",
     "output_type": "stream",
     "text": [
      "8\n",
      "7\n",
      "6\n",
      "5\n",
      "4\n",
      "3\n",
      "2\n",
      "1\n"
     ]
    }
   ],
   "source": [
    "tempInt  = 8\n",
    "while tempInt > 0:\n",
    "    print(tempInt)\n",
    "    tempInt -= 1"
   ]
  },
  {
   "cell_type": "markdown",
   "id": "ea21ffc0-90bb-4abc-acc0-f11fd1be1fa0",
   "metadata": {},
   "source": [
    "### Q.Fibonacci < 100"
   ]
  },
  {
   "cell_type": "code",
   "execution_count": 232,
   "id": "9425adfe-7673-41bc-b281-a9b633b70a78",
   "metadata": {},
   "outputs": [
    {
     "ename": "SyntaxError",
     "evalue": "cannot assign to function call here. Maybe you meant '==' instead of '='? (3437625805.py, line 1)",
     "output_type": "error",
     "traceback": [
      "\u001b[1;36m  Cell \u001b[1;32mIn[232], line 1\u001b[1;36m\u001b[0m\n\u001b[1;33m    fib(n) = fib(n-1) + fib(n-2)                                           # my code has some issues that doesn't run correctly\u001b[0m\n\u001b[1;37m    ^\u001b[0m\n\u001b[1;31mSyntaxError\u001b[0m\u001b[1;31m:\u001b[0m cannot assign to function call here. Maybe you meant '==' instead of '='?\n"
     ]
    }
   ],
   "source": [
    "fib(n) = fib(n-1) + fib(n-2)                                           # my code has some issues that doesn't run correctly\n",
    "while finb(n) <= 100:\n",
    "\n",
    "    print(fibInt)\n",
    "    fibInt -= 1"
   ]
  },
  {
   "cell_type": "code",
   "execution_count": 236,
   "id": "1c3b716f-3e7c-4ec6-b8d6-2e1867eb3567",
   "metadata": {},
   "outputs": [
    {
     "name": "stdout",
     "output_type": "stream",
     "text": [
      "0\n",
      "1\n",
      "1\n",
      "2\n",
      "3\n",
      "5\n",
      "8\n",
      "13\n",
      "21\n",
      "34\n",
      "55\n",
      "89\n"
     ]
    }
   ],
   "source": [
    "def fibonacci_less_than_100():  \n",
    "    fibInt1, fibInt2 = 0, 1  # Starting values of Fibonacci sequence  \n",
    "    while fibInt1 < 100:  \n",
    "        print(fibInt1)  # Print the current Fibonacci number  \n",
    "        fibInt1, fibInt2 = fibInt2, fibInt1 + fibInt2  # Update to the next Fibonacci numbers  \n",
    "\n",
    "fibonacci_less_than_100()"
   ]
  },
  {
   "cell_type": "code",
   "execution_count": 238,
   "id": "0e8e873a-34b9-4e76-bed8-b75239fcf8f3",
   "metadata": {},
   "outputs": [
    {
     "name": "stdout",
     "output_type": "stream",
     "text": [
      "[0, 1, 1, 2, 3, 5, 8, 13, 21, 34, 55, 89]\n"
     ]
    }
   ],
   "source": [
    "def fibonacci_upto_100():  \n",
    "    # Initialize the first two Fibonacci numbers  \n",
    "    fib_sequence = [0, 1]  \n",
    "    \n",
    "    # Continuously calculate the next Fibonacci number until it is less than 100  \n",
    "    while True:  \n",
    "        next_fib = fib_sequence[-1] + fib_sequence[-2]  \n",
    "        if next_fib < 100:  \n",
    "            fib_sequence.append(next_fib)  \n",
    "        else:  \n",
    "            break  \n",
    "\n",
    "    return fib_sequence  \n",
    "\n",
    "# Call the function and print the Fibonacci numbers less than 100  \n",
    "fibonacci_numbers = fibonacci_upto_100()  \n",
    "print(fibonacci_numbers)  "
   ]
  },
  {
   "cell_type": "markdown",
   "id": "2c03d003-31ae-4662-82cb-f567437afe25",
   "metadata": {},
   "source": [
    "### Q. check if p is prime or not "
   ]
  },
  {
   "cell_type": "code",
   "execution_count": 241,
   "id": "4e4b5ef5-df91-4125-9208-e0181208ad60",
   "metadata": {},
   "outputs": [
    {
     "name": "stdout",
     "output_type": "stream",
     "text": [
      "not prime\n"
     ]
    }
   ],
   "source": [
    "p = 7 \n",
    "tempP = p-1\n",
    "ayaAvalAst = True \n",
    "while tempP > 1:\n",
    "    if p % tempP == 0:\n",
    "        ayaAvalAst = False\n",
    "    tempP -=1\n",
    "if ayaAvalAst:\n",
    "        print('not prime')\n",
    "else:\n",
    "        print('prime')"
   ]
  },
  {
   "cell_type": "code",
   "execution_count": 243,
   "id": "72d304c5-98c4-4334-8716-278755b4ac63",
   "metadata": {},
   "outputs": [
    {
     "name": "stdout",
     "output_type": "stream",
     "text": [
      "IS prime\n"
     ]
    }
   ],
   "source": [
    "p = 19 \n",
    "tempP = 2\n",
    "ayaAvalAst = True \n",
    "while tempP < p:\n",
    "    if p % tempP == 0:\n",
    "        ayaAvalAst = False\n",
    "        break\n",
    "    tempP += 1\n",
    "    \n",
    "if ayaAvalAst:\n",
    "        print('IS prime')\n",
    "else:\n",
    "        print('IS NOT prime')"
   ]
  },
  {
   "cell_type": "markdown",
   "id": "f6b42444-dfe4-4fc7-8919-5cbd4418dc50",
   "metadata": {},
   "source": [
    "### Q. n-th prime number"
   ]
  },
  {
   "cell_type": "code",
   "execution_count": 255,
   "id": "9af57e98-699a-46a8-ac79-b69b4b277de7",
   "metadata": {},
   "outputs": [
    {
     "ename": "SyntaxError",
     "evalue": "invalid syntax (455384919.py, line 2)",
     "output_type": "error",
     "traceback": [
      "\u001b[1;36m  Cell \u001b[1;32mIn[255], line 2\u001b[1;36m\u001b[0m\n\u001b[1;33m    while n% = true\u001b[0m\n\u001b[1;37m             ^\u001b[0m\n\u001b[1;31mSyntaxError\u001b[0m\u001b[1;31m:\u001b[0m invalid syntax\n"
     ]
    }
   ],
   "source": [
    "n = 10\n",
    "while n% = true "
   ]
  },
  {
   "cell_type": "markdown",
   "id": "615ef9e0-41f6-4977-a350-1342aec8228b",
   "metadata": {},
   "source": [
    "# \"For\" Loop"
   ]
  },
  {
   "cell_type": "code",
   "execution_count": 258,
   "id": "8cbeca96-286c-4a16-b0ec-f1a9a3640be1",
   "metadata": {},
   "outputs": [
    {
     "name": "stdout",
     "output_type": "stream",
     "text": [
      "0\n",
      "1\n",
      "2\n",
      "3\n",
      "4\n",
      "5\n",
      "6\n",
      "7\n",
      "8\n",
      "9\n"
     ]
    }
   ],
   "source": [
    "for i in range(10):\n",
    "    print(i)"
   ]
  },
  {
   "cell_type": "code",
   "execution_count": 260,
   "id": "d335911c-ca52-4489-a8a9-7f21ece1cafb",
   "metadata": {},
   "outputs": [
    {
     "name": "stdout",
     "output_type": "stream",
     "text": [
      "10\n"
     ]
    }
   ],
   "source": [
    "sum = 0 \n",
    "for i in range(5):\n",
    "    sum += i \n",
    "print(sum)"
   ]
  },
  {
   "cell_type": "code",
   "execution_count": 262,
   "id": "fbde9eb8-d29a-44eb-a58d-5a86bb8f9981",
   "metadata": {},
   "outputs": [
    {
     "name": "stdout",
     "output_type": "stream",
     "text": [
      "i=0,sum=0\n",
      "i=1,sum=1\n",
      "i=2,sum=3\n",
      "i=3,sum=6\n",
      "i=4,sum=10\n",
      "END\n"
     ]
    }
   ],
   "source": [
    "sum = 0 \n",
    "for i in range(5):\n",
    "    sum += i \n",
    "    print(\"i=\"+str(i)+\",sum=\"+str(sum))\n",
    "print(\"END\")"
   ]
  },
  {
   "cell_type": "code",
   "execution_count": 264,
   "id": "7d3bee0f-1a9d-4944-b03b-430a682b1258",
   "metadata": {},
   "outputs": [
    {
     "name": "stdout",
     "output_type": "stream",
     "text": [
      "24\n"
     ]
    }
   ],
   "source": [
    "fact = 1              # my code \n",
    "for i in range(4):\n",
    "    fact *= (i+1)\n",
    "print(fact)"
   ]
  },
  {
   "cell_type": "code",
   "execution_count": 266,
   "id": "64e1a5fa-f873-4023-aea0-c85d2332166f",
   "metadata": {},
   "outputs": [
    {
     "name": "stdout",
     "output_type": "stream",
     "text": [
      "24\n"
     ]
    }
   ],
   "source": [
    "n=4                 # professor's code \n",
    "fact=1\n",
    "for i in range(n):\n",
    "    fact=fact*(i+1)\n",
    "print(fact)"
   ]
  },
  {
   "cell_type": "code",
   "execution_count": 268,
   "id": "ec3d2c00-a449-44fb-8f10-ebdf19d7964c",
   "metadata": {},
   "outputs": [
    {
     "name": "stdout",
     "output_type": "stream",
     "text": [
      "Hop!\n",
      "24\n"
     ]
    }
   ],
   "source": [
    "n=25\n",
    "for n in range(25):\n",
    "    if n/3==0:\n",
    "        print('Hop!')\n",
    "print(n)"
   ]
  },
  {
   "cell_type": "markdown",
   "id": "2425215b-e1f5-4d8b-b731-d07e73f4b36f",
   "metadata": {},
   "source": [
    "# List Session 10"
   ]
  },
  {
   "cell_type": "code",
   "execution_count": 271,
   "id": "ec45ec4c-4f73-4f0a-8fc6-15f954f8d870",
   "metadata": {},
   "outputs": [
    {
     "data": {
      "text/plain": [
       "3"
      ]
     },
     "execution_count": 271,
     "metadata": {},
     "output_type": "execute_result"
    }
   ],
   "source": [
    "tempList = [35 , \"Amir\" , 3.14]\n",
    "len(tempList)"
   ]
  },
  {
   "cell_type": "code",
   "execution_count": 273,
   "id": "7d8d4984-b85f-4860-922a-5e37ace71777",
   "metadata": {},
   "outputs": [
    {
     "data": {
      "text/plain": [
       "35"
      ]
     },
     "execution_count": 273,
     "metadata": {},
     "output_type": "execute_result"
    }
   ],
   "source": [
    "tempList[0]"
   ]
  },
  {
   "cell_type": "code",
   "execution_count": 275,
   "id": "7444c538-fb28-49ee-9e6c-6cc075da3908",
   "metadata": {},
   "outputs": [
    {
     "data": {
      "text/plain": [
       "'Amir'"
      ]
     },
     "execution_count": 275,
     "metadata": {},
     "output_type": "execute_result"
    }
   ],
   "source": [
    "tempList[1]"
   ]
  },
  {
   "cell_type": "code",
   "execution_count": 277,
   "id": "96e4481a-1324-45e0-afde-b0c84bb9322e",
   "metadata": {},
   "outputs": [
    {
     "data": {
      "text/plain": [
       "4"
      ]
     },
     "execution_count": 277,
     "metadata": {},
     "output_type": "execute_result"
    }
   ],
   "source": [
    "len(tempList[1])"
   ]
  },
  {
   "cell_type": "code",
   "execution_count": 279,
   "id": "cf2e324f-be9a-481f-b3d5-17c2cd3d3443",
   "metadata": {},
   "outputs": [
    {
     "data": {
      "text/plain": [
       "'r'"
      ]
     },
     "execution_count": 279,
     "metadata": {},
     "output_type": "execute_result"
    }
   ],
   "source": [
    "tempList[1][3]"
   ]
  },
  {
   "cell_type": "code",
   "execution_count": 281,
   "id": "c63fe491-4812-45bc-a7f7-901beec87fd9",
   "metadata": {},
   "outputs": [
    {
     "data": {
      "text/plain": [
       "[35, 'Amir']"
      ]
     },
     "execution_count": 281,
     "metadata": {},
     "output_type": "execute_result"
    }
   ],
   "source": [
    "tempList[:-1]"
   ]
  },
  {
   "cell_type": "code",
   "execution_count": 283,
   "id": "f2129cea-34d5-44dc-b655-7b27759d8047",
   "metadata": {},
   "outputs": [
    {
     "data": {
      "text/plain": [
       "['Amir', 3.14]"
      ]
     },
     "execution_count": 283,
     "metadata": {},
     "output_type": "execute_result"
    }
   ],
   "source": [
    "tempList[1:]"
   ]
  },
  {
   "cell_type": "code",
   "execution_count": 285,
   "id": "ef8f031f-d2c9-42d3-90c6-8773a2feabfd",
   "metadata": {},
   "outputs": [
    {
     "ename": "TypeError",
     "evalue": "'int' object is not subscriptable",
     "output_type": "error",
     "traceback": [
      "\u001b[1;31m---------------------------------------------------------------------------\u001b[0m",
      "\u001b[1;31mTypeError\u001b[0m                                 Traceback (most recent call last)",
      "Cell \u001b[1;32mIn[285], line 1\u001b[0m\n\u001b[1;32m----> 1\u001b[0m tempList[\u001b[38;5;241m0\u001b[39m][\u001b[38;5;241m1\u001b[39m]\n",
      "\u001b[1;31mTypeError\u001b[0m: 'int' object is not subscriptable"
     ]
    }
   ],
   "source": [
    "tempList[0][1]    #error because of string "
   ]
  },
  {
   "cell_type": "code",
   "execution_count": 287,
   "id": "dddab61e-c1f4-40dc-aa1c-9347c16afe03",
   "metadata": {},
   "outputs": [
    {
     "data": {
      "text/plain": [
       "3.14"
      ]
     },
     "execution_count": 287,
     "metadata": {},
     "output_type": "execute_result"
    }
   ],
   "source": [
    "tempList[2]"
   ]
  },
  {
   "cell_type": "code",
   "execution_count": 289,
   "id": "e1d69f87-e8e5-4688-8428-23958cbf3609",
   "metadata": {},
   "outputs": [
    {
     "data": {
      "text/plain": [
       "'3.14'"
      ]
     },
     "execution_count": 289,
     "metadata": {},
     "output_type": "execute_result"
    }
   ],
   "source": [
    "str(tempList[2])"
   ]
  },
  {
   "cell_type": "code",
   "execution_count": 291,
   "id": "f61ce26b-71f3-4dd6-a6d3-4b1d89af954e",
   "metadata": {},
   "outputs": [
    {
     "data": {
      "text/plain": [
       "'4'"
      ]
     },
     "execution_count": 291,
     "metadata": {},
     "output_type": "execute_result"
    }
   ],
   "source": [
    "str(tempList[2])[3]"
   ]
  },
  {
   "cell_type": "code",
   "execution_count": 293,
   "id": "0c29d2d8-38ce-4d5a-a6bd-24ecbb4a2fd6",
   "metadata": {},
   "outputs": [
    {
     "data": {
      "text/plain": [
       "'1'"
      ]
     },
     "execution_count": 293,
     "metadata": {},
     "output_type": "execute_result"
    }
   ],
   "source": [
    "str(tempList[2])[2]"
   ]
  },
  {
   "cell_type": "code",
   "execution_count": 295,
   "id": "95d12ac2-65c7-412c-a2aa-e00e5ee0c1b1",
   "metadata": {},
   "outputs": [
    {
     "data": {
      "text/plain": [
       "'.'"
      ]
     },
     "execution_count": 295,
     "metadata": {},
     "output_type": "execute_result"
    }
   ],
   "source": [
    "str(tempList[2])[1]"
   ]
  },
  {
   "cell_type": "code",
   "execution_count": 297,
   "id": "ec442414-6932-41b1-844d-0fc9b7415d76",
   "metadata": {},
   "outputs": [
    {
     "data": {
      "text/plain": [
       "'23'"
      ]
     },
     "execution_count": 297,
     "metadata": {},
     "output_type": "execute_result"
    }
   ],
   "source": [
    "str(23)"
   ]
  },
  {
   "cell_type": "code",
   "execution_count": 299,
   "id": "1515477b-2df7-4243-a46d-de9ae7140ebb",
   "metadata": {},
   "outputs": [
    {
     "data": {
      "text/plain": [
       "'36'"
      ]
     },
     "execution_count": 299,
     "metadata": {},
     "output_type": "execute_result"
    }
   ],
   "source": [
    "a = 36       #pars/cast something \n",
    "str(a)"
   ]
  },
  {
   "cell_type": "code",
   "execution_count": 301,
   "id": "d471c3e4-0a44-4f02-b269-dc84dded1067",
   "metadata": {},
   "outputs": [
    {
     "data": {
      "text/plain": [
       "3"
      ]
     },
     "execution_count": 301,
     "metadata": {},
     "output_type": "execute_result"
    }
   ],
   "source": [
    "pi = 3.14\n",
    "int(pi)"
   ]
  },
  {
   "cell_type": "code",
   "execution_count": 303,
   "id": "40820431-d8b5-4ce9-8e6f-2b3d5040fdb0",
   "metadata": {},
   "outputs": [
    {
     "data": {
      "text/plain": [
       "2"
      ]
     },
     "execution_count": 303,
     "metadata": {},
     "output_type": "execute_result"
    }
   ],
   "source": [
    "e = 2.7 \n",
    "int(e)"
   ]
  },
  {
   "cell_type": "code",
   "execution_count": 305,
   "id": "2508b7e9-23eb-4553-a67d-fb9ce9762807",
   "metadata": {},
   "outputs": [
    {
     "data": {
      "text/plain": [
       "[35, 'Amir', 3.14, 2, 'programming', 2.71828]"
      ]
     },
     "execution_count": 305,
     "metadata": {},
     "output_type": "execute_result"
    }
   ],
   "source": [
    "tempList = tempList+[2 , 'programming' , 2.71828]\n",
    "tempList"
   ]
  },
  {
   "cell_type": "code",
   "execution_count": 307,
   "id": "d132f5a5-2345-4c48-bdf4-f98531d55db5",
   "metadata": {},
   "outputs": [
    {
     "data": {
      "text/plain": [
       "[35, 'Amir', 3.14, 2, 'programming', 2.71828, 'A', 'l', 'i']"
      ]
     },
     "execution_count": 307,
     "metadata": {},
     "output_type": "execute_result"
    }
   ],
   "source": [
    "tempList += \"Ali\"\n",
    "tempList"
   ]
  },
  {
   "cell_type": "code",
   "execution_count": 309,
   "id": "883d97ad-27ab-42d2-84b5-d8259c0246ad",
   "metadata": {},
   "outputs": [
    {
     "data": {
      "text/plain": [
       "[35, 'Amir', 3.14, 2, 'programming', 2.71828, 'A', 'l', 'i', 'tehran']"
      ]
     },
     "execution_count": 309,
     "metadata": {},
     "output_type": "execute_result"
    }
   ],
   "source": [
    "tempList.append(\"tehran\")\n",
    "tempList"
   ]
  },
  {
   "cell_type": "code",
   "execution_count": 311,
   "id": "7456aaf9-c3cc-4ceb-99ab-d520fee61096",
   "metadata": {},
   "outputs": [
    {
     "data": {
      "text/plain": [
       "['__add__',\n",
       " '__class__',\n",
       " '__class_getitem__',\n",
       " '__contains__',\n",
       " '__delattr__',\n",
       " '__delitem__',\n",
       " '__dir__',\n",
       " '__doc__',\n",
       " '__eq__',\n",
       " '__format__',\n",
       " '__ge__',\n",
       " '__getattribute__',\n",
       " '__getitem__',\n",
       " '__getstate__',\n",
       " '__gt__',\n",
       " '__hash__',\n",
       " '__iadd__',\n",
       " '__imul__',\n",
       " '__init__',\n",
       " '__init_subclass__',\n",
       " '__iter__',\n",
       " '__le__',\n",
       " '__len__',\n",
       " '__lt__',\n",
       " '__mul__',\n",
       " '__ne__',\n",
       " '__new__',\n",
       " '__reduce__',\n",
       " '__reduce_ex__',\n",
       " '__repr__',\n",
       " '__reversed__',\n",
       " '__rmul__',\n",
       " '__setattr__',\n",
       " '__setitem__',\n",
       " '__sizeof__',\n",
       " '__str__',\n",
       " '__subclasshook__',\n",
       " 'append',\n",
       " 'clear',\n",
       " 'copy',\n",
       " 'count',\n",
       " 'extend',\n",
       " 'index',\n",
       " 'insert',\n",
       " 'pop',\n",
       " 'remove',\n",
       " 'reverse',\n",
       " 'sort']"
      ]
     },
     "execution_count": 311,
     "metadata": {},
     "output_type": "execute_result"
    }
   ],
   "source": [
    "dir(tempList)"
   ]
  },
  {
   "cell_type": "code",
   "execution_count": 313,
   "id": "7b2dfcfc-b829-4de3-859d-c1a7747f5d74",
   "metadata": {},
   "outputs": [
    {
     "data": {
      "text/plain": [
       "'Amir'"
      ]
     },
     "execution_count": 313,
     "metadata": {},
     "output_type": "execute_result"
    }
   ],
   "source": [
    "tempList.pop(1)"
   ]
  },
  {
   "cell_type": "code",
   "execution_count": 315,
   "id": "d2da00d6-dd4e-4bc2-94ba-1359e09ca86f",
   "metadata": {},
   "outputs": [
    {
     "data": {
      "text/plain": [
       "[35, 3.14, 2, 'programming', 2.71828, 'A', 'l', 'i', 'tehran']"
      ]
     },
     "execution_count": 315,
     "metadata": {},
     "output_type": "execute_result"
    }
   ],
   "source": [
    "tempList"
   ]
  },
  {
   "cell_type": "code",
   "execution_count": 317,
   "id": "9f551071-8fc6-4027-8a3f-d99a4bd0feb9",
   "metadata": {},
   "outputs": [
    {
     "data": {
      "text/plain": [
       "[21, 25, 32, 35]"
      ]
     },
     "execution_count": 317,
     "metadata": {},
     "output_type": "execute_result"
    }
   ],
   "source": [
    "ages = [32, 25, 35, 21]\n",
    "ages.sort()\n",
    "ages "
   ]
  },
  {
   "cell_type": "code",
   "execution_count": 319,
   "id": "9f21bcb3-5eed-403e-b24f-c50466d838c8",
   "metadata": {},
   "outputs": [
    {
     "ename": "TypeError",
     "evalue": "'<' not supported between instances of 'str' and 'int'",
     "output_type": "error",
     "traceback": [
      "\u001b[1;31m---------------------------------------------------------------------------\u001b[0m",
      "\u001b[1;31mTypeError\u001b[0m                                 Traceback (most recent call last)",
      "Cell \u001b[1;32mIn[319], line 1\u001b[0m\n\u001b[1;32m----> 1\u001b[0m tempList\u001b[38;5;241m.\u001b[39msort()   \u001b[38;5;66;03m# error occurred \u001b[39;00m\n\u001b[0;32m      2\u001b[0m tempList\n",
      "\u001b[1;31mTypeError\u001b[0m: '<' not supported between instances of 'str' and 'int'"
     ]
    }
   ],
   "source": [
    "tempList.sort()   # error occurred \n",
    "tempList"
   ]
  },
  {
   "cell_type": "code",
   "execution_count": 321,
   "id": "0a2e2f23-f54e-4fad-8182-3d3b49dfde49",
   "metadata": {},
   "outputs": [
    {
     "data": {
      "text/plain": [
       "['2', '35', 'A', 'B', 'a', 'b', 's']"
      ]
     },
     "execution_count": 321,
     "metadata": {},
     "output_type": "execute_result"
    }
   ],
   "source": [
    "ages = [\"s\", \"2\", \"35\", \"B\", \"a\", \"b\", \"A\"]\n",
    "ages.sort()\n",
    "ages "
   ]
  },
  {
   "cell_type": "code",
   "execution_count": 323,
   "id": "156bfe80-52eb-4917-b0c4-304d8359758f",
   "metadata": {},
   "outputs": [
    {
     "data": {
      "text/plain": [
       "'a'"
      ]
     },
     "execution_count": 323,
     "metadata": {},
     "output_type": "execute_result"
    }
   ],
   "source": [
    "ages[4]"
   ]
  },
  {
   "cell_type": "code",
   "execution_count": 325,
   "id": "94fed33b-d2e6-4778-ac6c-7c1f7eef1657",
   "metadata": {},
   "outputs": [
    {
     "data": {
      "text/plain": [
       "'b'"
      ]
     },
     "execution_count": 325,
     "metadata": {},
     "output_type": "execute_result"
    }
   ],
   "source": [
    "ages[5]"
   ]
  },
  {
   "cell_type": "code",
   "execution_count": 327,
   "id": "c5bf01dd-5dc4-4e24-ba07-a371a0382d8a",
   "metadata": {},
   "outputs": [
    {
     "ename": "IndexError",
     "evalue": "list index out of range",
     "output_type": "error",
     "traceback": [
      "\u001b[1;31m---------------------------------------------------------------------------\u001b[0m",
      "\u001b[1;31mIndexError\u001b[0m                                Traceback (most recent call last)",
      "Cell \u001b[1;32mIn[327], line 1\u001b[0m\n\u001b[1;32m----> 1\u001b[0m ages[\u001b[38;5;241m7\u001b[39m]\n",
      "\u001b[1;31mIndexError\u001b[0m: list index out of range"
     ]
    }
   ],
   "source": [
    "ages[7] ## currect error occurred"
   ]
  },
  {
   "cell_type": "code",
   "execution_count": 329,
   "id": "7fdf3acc-25ae-4b2b-8f51-40439af1b4f5",
   "metadata": {},
   "outputs": [
    {
     "data": {
      "text/plain": [
       "[4, 5, 6]"
      ]
     },
     "execution_count": 329,
     "metadata": {},
     "output_type": "execute_result"
    }
   ],
   "source": [
    "nestedArray = [[1,2,3], [4,5,6], [7,8,9]]\n",
    "nestedArray[1]   #0        1        2 "
   ]
  },
  {
   "cell_type": "code",
   "execution_count": 331,
   "id": "a376d412-9161-4167-9c97-d422971ea7c4",
   "metadata": {},
   "outputs": [
    {
     "data": {
      "text/plain": [
       "6"
      ]
     },
     "execution_count": 331,
     "metadata": {},
     "output_type": "execute_result"
    }
   ],
   "source": [
    "nestedArray[1][2]"
   ]
  },
  {
   "cell_type": "code",
   "execution_count": 333,
   "id": "cabe1c68-120e-4075-9465-10680e4d0156",
   "metadata": {},
   "outputs": [],
   "source": [
    "myScores = [20, 13, 11, 17, 15]\n",
    "myCourses = [\"Math\", \"History\", \"Chemistry\", \"Physics\", \"AP\"]"
   ]
  },
  {
   "cell_type": "code",
   "execution_count": 335,
   "id": "0c8381a9-f2a7-4358-b61c-9ebd5fd7be30",
   "metadata": {},
   "outputs": [
    {
     "name": "stdout",
     "output_type": "stream",
     "text": [
      "20\n",
      "13\n",
      "11\n",
      "17\n",
      "15\n"
     ]
    }
   ],
   "source": [
    "for i in myScores:                                                        # برای i هایی که توی یک چیزی هستن\n",
    "    print(i)"
   ]
  },
  {
   "cell_type": "code",
   "execution_count": 337,
   "id": "38c833b6-3ca2-4a5a-99f1-723874622697",
   "metadata": {},
   "outputs": [
    {
     "name": "stdout",
     "output_type": "stream",
     "text": [
      "20\n",
      "13\n",
      "11\n",
      "17\n",
      "15\n",
      "Math\n",
      "History\n",
      "Chemistry\n",
      "Physics\n",
      "AP\n"
     ]
    }
   ],
   "source": [
    "for i in myScores:   # My Code \n",
    "    print(i) \n",
    "for j in myCourses:\n",
    "    print(j) \n"
   ]
  },
  {
   "cell_type": "code",
   "execution_count": 339,
   "id": "e7d8c6fe-b5a3-4771-a235-b4bc507a11f7",
   "metadata": {},
   "outputs": [
    {
     "name": "stdout",
     "output_type": "stream",
     "text": [
      "Math = 20\n",
      "History = 13\n",
      "Chemistry = 11\n",
      "Physics = 17\n",
      "AP = 15\n",
      "BP = 8\n"
     ]
    }
   ],
   "source": [
    "myScores = [20, 13, 11, 17, 15, 8]                                # Help from chat gpt \n",
    "myCourses = [\"Math\", \"History\", \"Chemistry\", \"Physics\", \"AP\", \"BP\"]  \n",
    "\n",
    "for course, score in zip(myCourses, myScores):  \n",
    "    print(f\"{course} = {score}\")"
   ]
  },
  {
   "cell_type": "markdown",
   "id": "6eadcbd8-f7cf-44fc-80ad-289eae8defd8",
   "metadata": {},
   "source": [
    "## Q. print courses that i passed in the decending order. (eliminate scores < 10)"
   ]
  },
  {
   "cell_type": "code",
   "execution_count": 342,
   "id": "08b86f95-6f04-4431-8c98-e3db7bf73b25",
   "metadata": {},
   "outputs": [],
   "source": [
    "myScores = [20, 13, 11, 17, 15, 4]\n",
    "myCourses = [\"Math\", \"History\", \"Chemistry\", \"Physics\", \"AP\", \"BP\"]"
   ]
  },
  {
   "cell_type": "code",
   "execution_count": 344,
   "id": "786b6a29-6b48-43e1-8f04-34d40cfe6793",
   "metadata": {},
   "outputs": [
    {
     "name": "stdout",
     "output_type": "stream",
     "text": [
      "Math = 4\n",
      "History = 11\n",
      "Chemistry = 13\n",
      "Physics = 15\n",
      "AP = 17\n",
      "BP = 20\n"
     ]
    }
   ],
   "source": [
    "myScores.sort()\n",
    "for course , score in zip(myCourses, myScores):\n",
    "    print(f\"{course} = {score}\") \n"
   ]
  },
  {
   "cell_type": "code",
   "execution_count": 346,
   "id": "9bc80e4e-28b4-4ba3-90f3-b29bbc66635a",
   "metadata": {},
   "outputs": [
    {
     "name": "stdout",
     "output_type": "stream",
     "text": [
      "History = 11\n",
      "Chemistry = 13\n",
      "Physics = 15\n",
      "AP = 17\n",
      "BP = 20\n"
     ]
    }
   ],
   "source": [
    "myScores = [20, 13, 11, 17, 15, 4]                                  # Professor's code (correct)\n",
    "myCourses = [\"Math\", \"History\", \"Chemistry\", \"Physics\", \"AP\", \"BP\"]\n",
    "\n",
    "myScores.sort()\n",
    "for i in range(len(myScores)):\n",
    "    if myScores[i] >= 10:\n",
    "        print(myCourses[i] + \" = \" + str(myScores[i]))"
   ]
  },
  {
   "cell_type": "markdown",
   "id": "7747c039-b922-488b-a2bd-f1574f80ce10",
   "metadata": {},
   "source": [
    "# Session 11 DICTIONARIES "
   ]
  },
  {
   "cell_type": "code",
   "execution_count": 349,
   "id": "e1321f3e-e562-4e1a-84de-9a5b4c6291f9",
   "metadata": {},
   "outputs": [
    {
     "name": "stdout",
     "output_type": "stream",
     "text": [
      "{'Name': 'Nikki', 'Age': 23}\n"
     ]
    }
   ],
   "source": [
    "myProfile = {'Name':'Nikki' , 'Age':23}\n",
    "print(myProfile)"
   ]
  },
  {
   "cell_type": "code",
   "execution_count": 351,
   "id": "e554f5f5-791a-4eb1-8faf-27feeb644dc5",
   "metadata": {},
   "outputs": [
    {
     "name": "stdout",
     "output_type": "stream",
     "text": [
      "{'firstname': 'Nikki', 'lastname': 'Khayyat'}\n"
     ]
    }
   ],
   "source": [
    "nameDict = {'firstname': 'Nikki', 'lastname': 'Khayyat'}  # Fixed quote for 'firstname'  \n",
    "print(nameDict)"
   ]
  },
  {
   "cell_type": "code",
   "execution_count": 353,
   "id": "11b6d28a-7207-49ff-821a-77dc760fff50",
   "metadata": {},
   "outputs": [
    {
     "name": "stdout",
     "output_type": "stream",
     "text": [
      "{'name': {'firstname': 'Nikki', 'lastname': 'Khayyat'}, 'age': 23}\n"
     ]
    }
   ],
   "source": [
    "myProfile = {'name': nameDict, 'age': 23}  \n",
    "print(myProfile)"
   ]
  },
  {
   "cell_type": "code",
   "execution_count": 355,
   "id": "81387b87-599c-44bf-8611-a00835f209b6",
   "metadata": {},
   "outputs": [],
   "source": [
    "cities = ['Tehran', 'Boston', 'Shahrekord']"
   ]
  },
  {
   "cell_type": "code",
   "execution_count": 357,
   "id": "11d566c4-447a-4b20-bb08-79a29b40b050",
   "metadata": {},
   "outputs": [],
   "source": [
    "myProfile['cities'] = cities"
   ]
  },
  {
   "cell_type": "code",
   "execution_count": 359,
   "id": "e3a95efe-5c4f-4559-a2a0-8f80f9e15147",
   "metadata": {},
   "outputs": [
    {
     "name": "stdout",
     "output_type": "stream",
     "text": [
      "{'name': {'firstname': 'Nikki', 'lastname': 'Khayyat'}, 'age': 23, 'cities': ['Tehran', 'Boston', 'Shahrekord']}\n"
     ]
    }
   ],
   "source": [
    "print(myProfile)"
   ]
  },
  {
   "cell_type": "code",
   "execution_count": 361,
   "id": "fed81cc9-b637-4301-b67b-0d9c2c5b905a",
   "metadata": {},
   "outputs": [
    {
     "name": "stdout",
     "output_type": "stream",
     "text": [
      "3\n"
     ]
    }
   ],
   "source": [
    "print(len(myProfile['cities']))"
   ]
  },
  {
   "cell_type": "code",
   "execution_count": 363,
   "id": "bd38d447-69ef-4b05-bee3-b26c8f7f4b25",
   "metadata": {},
   "outputs": [
    {
     "name": "stdout",
     "output_type": "stream",
     "text": [
      "Shahrekord\n"
     ]
    }
   ],
   "source": [
    "print(myProfile['cities'][-1])"
   ]
  },
  {
   "cell_type": "code",
   "execution_count": 365,
   "id": "c798d946-1c1a-48e6-89b3-eca983798553",
   "metadata": {},
   "outputs": [
    {
     "data": {
      "text/plain": [
       "{'name': {'firstname': 'Nikki', 'lastname': 'Khayyat'},\n",
       " 'age': 23,\n",
       " 'cities': ['Tehran', 'Boston', 'Shahrekord'],\n",
       " 'friends': [{'firstname': 'Charles', 'lastname': 'Lec', 'age': 27, 'ID': 0},\n",
       "  {'firstname': 'Franco', 'lastname': 'Colapinto', 'age': 21, 'ID': 0}]}"
      ]
     },
     "execution_count": 365,
     "metadata": {},
     "output_type": "execute_result"
    }
   ],
   "source": [
    "myProfile['friends'] = [{'firstname' : 'Charles', 'lastname' : 'Lec' , 'age' : 27, 'ID' : 0} ,\n",
    "                        {'firstname' : 'Franco', 'lastname' : 'Colapinto', 'age' : 21, 'ID' :0}]\n",
    "myProfile"
   ]
  },
  {
   "cell_type": "code",
   "execution_count": 367,
   "id": "cfe6a37c-4d7d-4c5a-aef0-183e0e1e53ed",
   "metadata": {},
   "outputs": [
    {
     "name": "stdout",
     "output_type": "stream",
     "text": [
      "[{'firstname': 'Charles', 'lastname': 'Lec', 'age': 27, 'ID': 0}, {'firstname': 'Franco', 'lastname': 'Colapinto', 'age': 21, 'ID': 0}, {'firstname': 'Lewis', 'lastname': 'Hamilton', 'age': 40, 'ID': 0}]\n"
     ]
    }
   ],
   "source": [
    "myProfile['friends'].append({'firstname' : 'Lewis', 'lastname' : 'Hamilton' , 'age' : 40, 'ID' : 0})\n",
    "print(myProfile['friends'])"
   ]
  },
  {
   "cell_type": "code",
   "execution_count": 369,
   "id": "62217264-8ded-4180-9f69-86e58272429c",
   "metadata": {},
   "outputs": [
    {
     "data": {
      "text/plain": [
       "{'name': {'firstname': 'Nikki', 'lastname': 'Khayyat'},\n",
       " 'age': 23,\n",
       " 'cities': ['Tehran', 'Boston', 'Shahrekord'],\n",
       " 'friends': [{'firstname': 'Charles', 'lastname': 'Lec', 'age': 27, 'ID': 0},\n",
       "  {'firstname': 'Franco', 'lastname': 'Colapinto', 'age': 21, 'ID': 0}]}"
      ]
     },
     "execution_count": 369,
     "metadata": {},
     "output_type": "execute_result"
    }
   ],
   "source": [
    "myProfile['friends'] = [{'firstname' : 'Charles', 'lastname' : 'Lec' , 'age' : 27 , 'ID' : 0} ,\n",
    "                        {'firstname' : 'Franco', 'lastname' : 'Colapinto', 'age' : 21, 'ID' :0}]\n",
    "myProfile"
   ]
  },
  {
   "cell_type": "code",
   "execution_count": 371,
   "id": "09db08ee-f8a1-4d3f-87fc-ba0321bfa659",
   "metadata": {},
   "outputs": [
    {
     "name": "stdout",
     "output_type": "stream",
     "text": [
      "[{'firstname': 'Charles', 'lastname': 'Lec', 'age': 27, 'ID': 0}, {'firstname': 'Franco', 'lastname': 'Colapinto', 'age': 21, 'ID': 0}, {'firstname': 'Lewis', 'lastname': 'Hamilton', 'age': 40, 'ID': 0}]\n"
     ]
    }
   ],
   "source": [
    "myProfile['friends'].append({'firstname' : 'Lewis', 'lastname' : 'Hamilton' , 'age' : 40, 'ID' : 0})\n",
    "print(myProfile['friends'])"
   ]
  },
  {
   "cell_type": "code",
   "execution_count": 373,
   "id": "1d790805-7c98-43d5-917b-4d30945e5b4c",
   "metadata": {},
   "outputs": [
    {
     "data": {
      "text/plain": [
       "{'name': {'firstname': 'Nikki', 'lastname': 'Khayyat'},\n",
       " 'age': 23,\n",
       " 'cities': ['Tehran', 'Boston', 'Shahrekord'],\n",
       " 'friends': [{'firstname': 'Charles', 'lastname': 'Lec', 'age': 27, 'ID': 0},\n",
       "  {'firstname': 'Franco', 'lastname': 'Colapinto', 'age': 21, 'ID': 0},\n",
       "  {'firstname': 'Lewis', 'lastname': 'Hamilton', 'age': 40, 'ID': 0}]}"
      ]
     },
     "execution_count": 373,
     "metadata": {},
     "output_type": "execute_result"
    }
   ],
   "source": [
    "myProfile"
   ]
  },
  {
   "cell_type": "markdown",
   "id": "c4aef1ca-99e3-4048-bf80-1be079c7b319",
   "metadata": {},
   "source": [
    "# Q. اسم مسن ترین دوست و میانگین سن دوستانتون رو بنویسید"
   ]
  },
  {
   "cell_type": "markdown",
   "id": "716d6936-9be8-4a9d-a818-75f2d10125f8",
   "metadata": {},
   "source": [
    "# Q.Print name of oldest friend and avarage age of your friends "
   ]
  },
  {
   "cell_type": "code",
   "execution_count": 377,
   "id": "47a1cfde-d67a-4340-977b-83a3c314d78f",
   "metadata": {},
   "outputs": [],
   "source": [
    "def oldest_average_friend(myDict):\n",
    "    maxAge = 0\n",
    "    maxFriend = 0\n",
    "    sumAge = 0 \n",
    "    for i in myDict['friends']:\n",
    "        sumAge += i['age']\n",
    "        if i['age'] > maxAge:\n",
    "            maxAge = i['age']\n",
    "            maxFriend = i\n",
    "            averageAge = sumAge / len(myDict['friends'])\n",
    "            return [maxFriend , averageAge]\n",
    "        "
   ]
  },
  {
   "cell_type": "code",
   "execution_count": 379,
   "id": "5f07787c-04d0-4995-82b6-931ff33a670e",
   "metadata": {},
   "outputs": [
    {
     "name": "stdout",
     "output_type": "stream",
     "text": [
      "Charles\n",
      "9.0\n"
     ]
    }
   ],
   "source": [
    "oldestfriend = oldest_average_friend(myProfile)[0]\n",
    "print(oldestfriend[\"firstname\"])\n",
    "averageAgeOfMyFriend = oldest_average_friend(myProfile)[1]\n",
    "print (averageAgeOfMyFriend)"
   ]
  },
  {
   "cell_type": "code",
   "execution_count": 381,
   "id": "cb071921-6c08-431f-bcd4-172c3a52775c",
   "metadata": {},
   "outputs": [
    {
     "name": "stdout",
     "output_type": "stream",
     "text": [
      "nikkinikki\n",
      "nikkinikkinikkinikki\n",
      "nikkinikkinikkinikkinikkinikkinikkinikki\n"
     ]
    }
   ],
   "source": [
    "n= 3\n",
    "mult = 1\n",
    "myName = \"nikki\"\n",
    "for i in range(n):\n",
    "    mult = mult * 2\n",
    "    a = mult\n",
    "    print(myName * a)"
   ]
  },
  {
   "cell_type": "markdown",
   "id": "64123774-df2c-489f-b094-1cc691b959b9",
   "metadata": {},
   "source": [
    "# Session 13 "
   ]
  },
  {
   "cell_type": "code",
   "execution_count": 384,
   "id": "bf22d1f6-3dc9-4e23-bd77-38e7c3be4bbf",
   "metadata": {},
   "outputs": [
    {
     "data": {
      "text/plain": [
       "dict_keys(['name', 'age', 'cities', 'friends'])"
      ]
     },
     "execution_count": 384,
     "metadata": {},
     "output_type": "execute_result"
    }
   ],
   "source": [
    "myProfile.keys()"
   ]
  },
  {
   "cell_type": "code",
   "execution_count": 386,
   "id": "1d2eecf6-faaf-472c-9f87-dcfd89fa0505",
   "metadata": {},
   "outputs": [
    {
     "data": {
      "text/plain": [
       "dict_values([{'firstname': 'Nikki', 'lastname': 'Khayyat'}, 23, ['Tehran', 'Boston', 'Shahrekord'], [{'firstname': 'Charles', 'lastname': 'Lec', 'age': 27, 'ID': 0}, {'firstname': 'Franco', 'lastname': 'Colapinto', 'age': 21, 'ID': 0}, {'firstname': 'Lewis', 'lastname': 'Hamilton', 'age': 40, 'ID': 0}]])"
      ]
     },
     "execution_count": 386,
     "metadata": {},
     "output_type": "execute_result"
    }
   ],
   "source": [
    "myProfile.values()"
   ]
  },
  {
   "cell_type": "code",
   "execution_count": 388,
   "id": "ed5f2a77-b835-4e6b-af26-aa83198bf858",
   "metadata": {},
   "outputs": [
    {
     "name": "stdout",
     "output_type": "stream",
     "text": [
      "age has been imported\n"
     ]
    }
   ],
   "source": [
    "if \"age\" in myProfile.keys():\n",
    "    print(\"age has been imported\")\n",
    "else:\n",
    "    print(\"import age\")"
   ]
  },
  {
   "cell_type": "code",
   "execution_count": 390,
   "id": "d4e8ecca-2521-4536-9bd5-23ec131099c0",
   "metadata": {},
   "outputs": [
    {
     "name": "stdout",
     "output_type": "stream",
     "text": [
      "allowed\n"
     ]
    }
   ],
   "source": [
    "if \"age\" in myProfile.keys():\n",
    "    if myProfile[\"age\"] >= 18:\n",
    "        print(\"allowed\")\n",
    "else:\n",
    "    print(\"import age\")"
   ]
  },
  {
   "cell_type": "markdown",
   "id": "9e6e18e7-38ce-4dc0-bdc6-a3272a452f28",
   "metadata": {},
   "source": [
    "# 1.6 Files \n",
    "فایل ها یک سری موجود اند که ما  می توانیم توسط آن ها اطلاعاتمان را روی هارد ذخیره کنیم. این کار با متفیر ها شدنی نیست "
   ]
  },
  {
   "cell_type": "code",
   "execution_count": 393,
   "id": "31df8ef0-3bdc-4e1b-bb0e-08fe0a062022",
   "metadata": {},
   "outputs": [],
   "source": [
    "tempFile = open('myProfile.text','w')  # در بلاک پایین آدرس فایل ذخیره شده با فرمت text io wrapper و فرمت نوشته سیو شده \n",
    "tempFile.write(str(myProfile))  # تبدیل به استرینگ برای فرمت نوشته بود \n",
    "tempFile.close() # بسته شدن فایل باز شده "
   ]
  },
  {
   "cell_type": "code",
   "execution_count": 395,
   "id": "9a4a8d4e-ce49-49e3-8cfb-4fb010156d24",
   "metadata": {},
   "outputs": [
    {
     "name": "stdout",
     "output_type": "stream",
     "text": [
      "<_io.TextIOWrapper name='myProfile.text' mode='w' encoding='cp1252'>\n"
     ]
    }
   ],
   "source": [
    "print(tempFile)    #محل ذخیره فایل ما "
   ]
  },
  {
   "cell_type": "code",
   "execution_count": 397,
   "id": "efddad51-f478-4089-a212-5c594ec62234",
   "metadata": {},
   "outputs": [],
   "source": [
    "amirFile = open(\"amirProfile.txt\" , \"r\")\n",
    "amirProfile = amirFile.read()\n",
    "amirFile.close()"
   ]
  },
  {
   "cell_type": "code",
   "execution_count": 399,
   "id": "d9abd012-7f98-4c8b-89dd-2d43f8a41126",
   "metadata": {},
   "outputs": [
    {
     "name": "stdout",
     "output_type": "stream",
     "text": [
      "{'name': {'firstName': 'Amirhoshang', 'lastName': 'Hoseinpour Dehkordi'}, 'age': 34, 'cities': ['Tehran', 'Boston', 'Shahrekord'], 'farhadFriends': {'bestFriend': {'firstName': 'Philip', 'lastName': 'Fry', 'age': 35, 'id': 0}, 'lastButNotLeastFriend': {'firstName': 'Bender', 'lastName': 'Bending Rodríguez', 'age': 4, 'id': 1}, 0: {'firstName': 'Bender1', 'lastName': 'Bending Rodríguez', 'age': 4, 'id': 1}, 1: {'firstName': 'Bender2', 'lastName': 'Bending Rodríguez', 'age': 4, 'id': 1}, 2: {'firstName': 'Bender3', 'lastName': 'Bending Rodríguez', 'age': 4, 'id': 1}}, 'friends': [{'firstName': 'Philip', 'lastName': 'Fry', 'age': 35, 'id': 0}, {'firstName': 'Bender', 'lastName': 'Bending Rodríguez', 'age': 4, 'id': 1}, {'firstName': 'Amy', 'lastName': 'Wong', 'age': 30, 'id': 2}]}\n"
     ]
    }
   ],
   "source": [
    "print(amirProfile)"
   ]
  },
  {
   "cell_type": "markdown",
   "id": "78f55dd4-c5da-491f-a015-695270f2108c",
   "metadata": {},
   "source": [
    "# Functions "
   ]
  },
  {
   "cell_type": "markdown",
   "id": "c6d18f32-4b39-42e0-a0d0-ea71044b9504",
   "metadata": {},
   "source": [
    "### session 14"
   ]
  },
  {
   "cell_type": "code",
   "execution_count": 403,
   "id": "8813060e-7355-43fa-a264-a2913bbc5d47",
   "metadata": {},
   "outputs": [
    {
     "name": "stdout",
     "output_type": "stream",
     "text": [
      "4\n"
     ]
    }
   ],
   "source": [
    "print(len('amir'))"
   ]
  },
  {
   "cell_type": "markdown",
   "id": "33cf504e-c70e-4900-ac0b-b631bc1c7f00",
   "metadata": {},
   "source": [
    "### if you use camel case format for variables, use snake case for functions so you know they are different."
   ]
  },
  {
   "cell_type": "code",
   "execution_count": 406,
   "id": "725d9a40-41d5-4567-84a0-c16b29557428",
   "metadata": {},
   "outputs": [],
   "source": [
    "def function_name(myInput):\n",
    "    print(myInput)\n",
    "\n",
    "    return myInput * 2"
   ]
  },
  {
   "cell_type": "code",
   "execution_count": 408,
   "id": "32c13982-e126-4e89-8a99-17dd7e054e5f",
   "metadata": {},
   "outputs": [
    {
     "name": "stdout",
     "output_type": "stream",
     "text": [
      "amir\n"
     ]
    },
    {
     "data": {
      "text/plain": [
       "'amiramir'"
      ]
     },
     "execution_count": 408,
     "metadata": {},
     "output_type": "execute_result"
    }
   ],
   "source": [
    "function_name('amir')"
   ]
  },
  {
   "cell_type": "code",
   "execution_count": 410,
   "id": "afa30940-119e-455e-aeed-7c253fc05f1e",
   "metadata": {},
   "outputs": [
    {
     "name": "stdout",
     "output_type": "stream",
     "text": [
      "amir\n"
     ]
    },
    {
     "data": {
      "text/plain": [
       "'amiramir'"
      ]
     },
     "execution_count": 410,
     "metadata": {},
     "output_type": "execute_result"
    }
   ],
   "source": [
    "myFuctionValue = function_name('amir')\n",
    "myFuctionValue"
   ]
  },
  {
   "cell_type": "code",
   "execution_count": 412,
   "id": "91066fda-c6d1-4411-b84a-a7239deb1843",
   "metadata": {},
   "outputs": [
    {
     "data": {
      "text/plain": [
       "'amiramir'"
      ]
     },
     "execution_count": 412,
     "metadata": {},
     "output_type": "execute_result"
    }
   ],
   "source": [
    "def function_name(myInput):\n",
    "    #print(myInput)\n",
    "\n",
    "    return myInput * 2\n",
    "\n",
    "myFuctionValue = function_name('amir')\n",
    "myFuctionValue"
   ]
  },
  {
   "cell_type": "markdown",
   "id": "227bc8ad-b39f-4b5c-aa20-c8eb1dfa6f18",
   "metadata": {},
   "source": [
    "## Write a function to take n and returns fib(n)"
   ]
  },
  {
   "cell_type": "code",
   "execution_count": 415,
   "id": "0b91d4ca-f0f9-443a-9e59-cb088360e9c6",
   "metadata": {},
   "outputs": [
    {
     "ename": "SyntaxError",
     "evalue": "cannot assign to function call here. Maybe you meant '==' instead of '='? (2389840879.py, line 6)",
     "output_type": "error",
     "traceback": [
      "\u001b[1;36m  Cell \u001b[1;32mIn[415], line 6\u001b[1;36m\u001b[0m\n\u001b[1;33m    fib(n) = fib(n-1) + fib(n-2)                                           # my code has some issues that doesn't run correctly\u001b[0m\n\u001b[1;37m    ^\u001b[0m\n\u001b[1;31mSyntaxError\u001b[0m\u001b[1;31m:\u001b[0m cannot assign to function call here. Maybe you meant '==' instead of '='?\n"
     ]
    }
   ],
   "source": [
    "def fib_n(input):\n",
    "    if n == 0:  \n",
    "        return 0  \n",
    "    if n == 1:  \n",
    "        return 1\n",
    "    fib(n) = fib(n-1) + fib(n-2)                                           # my code has some issues that doesn't run correctly\n",
    "    while finb(n) <= 100:\n",
    "\n",
    "    print(fibInt)\n",
    "    fibInt -= 1\n",
    "\n",
    "\n",
    "\n",
    "    print(fib_n(input))"
   ]
  },
  {
   "cell_type": "markdown",
   "id": "f36bd714-fd5c-466d-bd36-0d62dd1442cc",
   "metadata": {},
   "source": [
    "## Write a function to take p , n  and defines a P (number) to n (number) and plays Hop "
   ]
  },
  {
   "cell_type": "code",
   "execution_count": 418,
   "id": "b75b48b0-e644-4e9f-9d2f-0c623c0e7a97",
   "metadata": {},
   "outputs": [],
   "source": [
    "def hop_p(p , n):\n",
    "    return \n",
    "    if true: \n",
    "        print(hop)\n",
    "    else:\n",
    "        print('number')"
   ]
  },
  {
   "cell_type": "code",
   "execution_count": null,
   "id": "30e53a85-5be5-4772-87f8-c27573802d27",
   "metadata": {},
   "outputs": [],
   "source": [
    "def swap(a , b):\n",
    "    4 , 3 = swap(3 , 4)"
   ]
  }
 ],
 "metadata": {
  "kernelspec": {
   "display_name": "Python 3 (ipykernel)",
   "language": "python",
   "name": "python3"
  },
  "language_info": {
   "codemirror_mode": {
    "name": "ipython",
    "version": 3
   },
   "file_extension": ".py",
   "mimetype": "text/x-python",
   "name": "python",
   "nbconvert_exporter": "python",
   "pygments_lexer": "ipython3",
   "version": "3.12.4"
  }
 },
 "nbformat": 4,
 "nbformat_minor": 5
}
