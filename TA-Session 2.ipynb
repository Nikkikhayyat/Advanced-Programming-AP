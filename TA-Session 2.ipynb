{
 "cells": [
  {
   "cell_type": "markdown",
   "id": "62ccc9ad-132b-4925-93c7-b5eebf260dcd",
   "metadata": {},
   "source": [
    "# TA Session 2"
   ]
  },
  {
   "cell_type": "markdown",
   "id": "d8106c1e-cf01-465e-91db-27c8180471fd",
   "metadata": {},
   "source": [
    "## Write a function sum_of_list that takes a list of integers as input and returns the sum of all integers in the list.\n"
   ]
  },
  {
   "cell_type": "code",
   "execution_count": 5,
   "id": "a9e3708a-d084-428b-9bff-7ab98efb46de",
   "metadata": {},
   "outputs": [
    {
     "name": "stdout",
     "output_type": "stream",
     "text": [
      "10\n"
     ]
    }
   ],
   "source": [
    "def sum_of_list(input_list):\n",
    "    return sum(input_list)\n",
    "input_list = {1,2,3,4}\n",
    "output = sum_of_list(input_list)\n",
    "print(output)"
   ]
  },
  {
   "cell_type": "markdown",
   "id": "d6b7b9f1-3981-44a7-a181-a770c17e7cc5",
   "metadata": {},
   "source": [
    "## Create a function check_key that accepts a dictionary and a key as input. The function should return True if the key exists in the dictionary and False otherwise. "
   ]
  },
  {
   "cell_type": "markdown",
   "id": "d7e92ceb-25c0-47d8-bdb6-c916921fd09e",
   "metadata": {},
   "source": [
    " dict1 = {\"Name\": \"Nikki\"} {key : value}\n",
    " \n",
    " input_dict = {'name': 'Nikki' , 'age': 23, 'phone' : 09123093939}\n",
    " \n",
    " key = 'age' \n",
    "\n",
    " def check_key(dict1, key):\n",
    "     return key in dict1 "
   ]
  },
  {
   "cell_type": "code",
   "execution_count": 9,
   "id": "a1b61100-e02b-4d22-9193-f24aeadff61b",
   "metadata": {},
   "outputs": [
    {
     "name": "stdout",
     "output_type": "stream",
     "text": [
      "True\n"
     ]
    }
   ],
   "source": [
    "def check_key(dict1, key):\n",
    "     return key in dict1\n",
    "dict1 = {'name': 'Nikki' , 'age': 23, 'phone' : 19123193939}\n",
    "key = 'age'\n",
    "result = check_key(dict1 ,key)\n",
    "print(result)"
   ]
  },
  {
   "cell_type": "markdown",
   "id": "02025ac8-9b55-41ec-975f-4d0b7d3c3448",
   "metadata": {},
   "source": [
    "# Write a function reverse_string that takes a string as input and returns the string reversed. "
   ]
  },
  {
   "cell_type": "code",
   "execution_count": 12,
   "id": "d19e456d-d970-497b-aff1-64d31130ccb5",
   "metadata": {},
   "outputs": [
    {
     "data": {
      "text/plain": [
       "'olleH'"
      ]
     },
     "execution_count": 12,
     "metadata": {},
     "output_type": "execute_result"
    }
   ],
   "source": [
    "def reverse_string(input_string):\n",
    "    return input_string[::-1]\n",
    "\n",
    "input_string = \"Hello\"\n",
    "output_string = reverse_string(input_string)\n",
    "output_string "
   ]
  }
 ],
 "metadata": {
  "kernelspec": {
   "display_name": "Python 3 (ipykernel)",
   "language": "python",
   "name": "python3"
  },
  "language_info": {
   "codemirror_mode": {
    "name": "ipython",
    "version": 3
   },
   "file_extension": ".py",
   "mimetype": "text/x-python",
   "name": "python",
   "nbconvert_exporter": "python",
   "pygments_lexer": "ipython3",
   "version": "3.12.4"
  }
 },
 "nbformat": 4,
 "nbformat_minor": 5
}
