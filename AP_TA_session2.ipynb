{
 "cells": [
  {
   "cell_type": "markdown",
   "id": "5789750a-b68f-4fa5-9829-7ac0d8f207ec",
   "metadata": {},
   "source": [
    "# TA Session 2"
   ]
  },
  {
   "cell_type": "code",
   "execution_count": 2,
   "id": "dc741fd1-8819-4d17-a5c2-50fbd6375639",
   "metadata": {},
   "outputs": [
    {
     "name": "stdout",
     "output_type": "stream",
     "text": [
      "10\n"
     ]
    }
   ],
   "source": [
    "def sum_of_list(input_list):\n",
    "    return sum(input_list)\n",
    "input_list = {1,2,3,4}\n",
    "output = sum_of_list(input_list)\n",
    "print(output)"
   ]
  },
  {
   "cell_type": "code",
   "execution_count": 10,
   "id": "63689f11-9a70-4a6d-9bc7-6501cc9cd814",
   "metadata": {},
   "outputs": [
    {
     "ename": "SyntaxError",
     "evalue": "leading zeros in decimal integer literals are not permitted; use an 0o prefix for octal integers (786163495.py, line 2)",
     "output_type": "error",
     "traceback": [
      "\u001b[1;36m  Cell \u001b[1;32mIn[10], line 2\u001b[1;36m\u001b[0m\n\u001b[1;33m    input_dict = {'name': 'Nikki' , 'age': 23, 'phone' : 09111111}\u001b[0m\n\u001b[1;37m                                                         ^\u001b[0m\n\u001b[1;31mSyntaxError\u001b[0m\u001b[1;31m:\u001b[0m leading zeros in decimal integer literals are not permitted; use an 0o prefix for octal integers\n"
     ]
    }
   ],
   "source": [
    "dict1 = {\"Name\": \"Nikki\"} #{key : value}\n",
    "input_dict = {'name': 'Nikki' , 'age': 23, 'phone' : 09111111}\n",
    "key = 'age' \n",
    "\n",
    "def check_key(dict1, key)\n",
    "    return key in dict1 "
   ]
  },
  {
   "cell_type": "code",
   "execution_count": 14,
   "id": "67a7bc66-c7ef-4221-9159-0688790d2302",
   "metadata": {},
   "outputs": [
    {
     "ename": "IndentationError",
     "evalue": "expected an indented block after 'if' statement on line 2 (2891173218.py, line 3)",
     "output_type": "error",
     "traceback": [
      "\u001b[1;36m  Cell \u001b[1;32mIn[14], line 3\u001b[1;36m\u001b[0m\n\u001b[1;33m    return True\u001b[0m\n\u001b[1;37m    ^\u001b[0m\n\u001b[1;31mIndentationError\u001b[0m\u001b[1;31m:\u001b[0m expected an indented block after 'if' statement on line 2\n"
     ]
    }
   ],
   "source": [
    "def check_key(dict, key):\n",
    "    if key in dict:\n",
    "    return True\n",
    "    else:\n",
    "    False\n",
    "    dict = {\"this\": \"that\"}\n",
    "    check_key(\"this\")\n",
    "    check_key(\"those\")"
   ]
  },
  {
   "cell_type": "markdown",
   "id": "f9044fbf-550e-4280-a6ca-675d56b489d0",
   "metadata": {},
   "source": [
    "3- Write a function reverse that takes a string as input and returns the string reversed."
   ]
  },
  {
   "cell_type": "code",
   "execution_count": 19,
   "id": "d930e431-eb09-4538-88cc-3352baa86f2f",
   "metadata": {},
   "outputs": [
    {
     "data": {
      "text/plain": [
       "'olleH'"
      ]
     },
     "execution_count": 19,
     "metadata": {},
     "output_type": "execute_result"
    }
   ],
   "source": [
    "def reverse_string(input_string):\n",
    "    return input_string[::-1]\n",
    "\n",
    "input_string = \"Hello\"\n",
    "output_string = reverse_string(input_string)\n",
    "output_string "
   ]
  },
  {
   "cell_type": "code",
   "execution_count": null,
   "id": "42dbf340-9d96-4d4f-ad4c-965f00552196",
   "metadata": {},
   "outputs": [],
   "source": []
  }
 ],
 "metadata": {
  "kernelspec": {
   "display_name": "Python 3 (ipykernel)",
   "language": "python",
   "name": "python3"
  },
  "language_info": {
   "codemirror_mode": {
    "name": "ipython",
    "version": 3
   },
   "file_extension": ".py",
   "mimetype": "text/x-python",
   "name": "python",
   "nbconvert_exporter": "python",
   "pygments_lexer": "ipython3",
   "version": "3.12.4"
  }
 },
 "nbformat": 4,
 "nbformat_minor": 5
}
