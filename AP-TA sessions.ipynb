{
 "cells": [
  {
   "cell_type": "markdown",
   "id": "5789750a-b68f-4fa5-9829-7ac0d8f207ec",
   "metadata": {},
   "source": [
    "# TA Session 2"
   ]
  },
  {
   "cell_type": "markdown",
   "id": "afa77b84-7af3-4b36-a4d9-91f011b5eedc",
   "metadata": {},
   "source": [
    "## Write a function sum_of_list that takes a list of integers as input and returns the sum of all integers in the list.\n"
   ]
  },
  {
   "cell_type": "code",
   "execution_count": 2,
   "id": "dc741fd1-8819-4d17-a5c2-50fbd6375639",
   "metadata": {},
   "outputs": [
    {
     "name": "stdout",
     "output_type": "stream",
     "text": [
      "10\n"
     ]
    }
   ],
   "source": [
    "def sum_of_list(input_list):\n",
    "    return sum(input_list)\n",
    "input_list = {1,2,3,4}\n",
    "output = sum_of_list(input_list)\n",
    "print(output)"
   ]
  },
  {
   "cell_type": "markdown",
   "id": "482bdaf2-8f2b-4227-93d1-3d445ccfcc45",
   "metadata": {},
   "source": [
    "## Create a function check_key that accepts a dictionary and a key as input. The function should return True if the key exists in the dictionary and False otherwise. "
   ]
  },
  {
   "cell_type": "markdown",
   "id": "c96b3d41-2699-4886-bab9-f1fc1637670e",
   "metadata": {},
   "source": [
    " dict1 = {\"Name\": \"Nikki\"} {key : value}\n",
    " \n",
    " input_dict = {'name': 'Nikki' , 'age': 23, 'phone' : 09123093939}\n",
    " \n",
    " key = 'age' \n",
    "\n",
    " def check_key(dict1, key):\n",
    "     return key in dict1 "
   ]
  },
  {
   "cell_type": "code",
   "execution_count": 27,
   "id": "bfd8de12-736e-4ad9-9619-042cb6807fac",
   "metadata": {},
   "outputs": [
    {
     "ename": "NameError",
     "evalue": "name 'check_key' is not defined",
     "output_type": "error",
     "traceback": [
      "\u001b[1;31m---------------------------------------------------------------------------\u001b[0m",
      "\u001b[1;31mNameError\u001b[0m                                 Traceback (most recent call last)",
      "Cell \u001b[1;32mIn[27], line 3\u001b[0m\n\u001b[0;32m      1\u001b[0m dict1 \u001b[38;5;241m=\u001b[39m {\u001b[38;5;124m'\u001b[39m\u001b[38;5;124mname\u001b[39m\u001b[38;5;124m'\u001b[39m: \u001b[38;5;124m'\u001b[39m\u001b[38;5;124mNikki\u001b[39m\u001b[38;5;124m'\u001b[39m , \u001b[38;5;124m'\u001b[39m\u001b[38;5;124mage\u001b[39m\u001b[38;5;124m'\u001b[39m: \u001b[38;5;241m23\u001b[39m, \u001b[38;5;124m'\u001b[39m\u001b[38;5;124mphone\u001b[39m\u001b[38;5;124m'\u001b[39m : \u001b[38;5;241m19123193939\u001b[39m}\n\u001b[0;32m      2\u001b[0m key \u001b[38;5;241m=\u001b[39m \u001b[38;5;124m'\u001b[39m\u001b[38;5;124mage\u001b[39m\u001b[38;5;124m'\u001b[39m\n\u001b[1;32m----> 3\u001b[0m result \u001b[38;5;241m=\u001b[39m check_key(dict1 ,key)\n\u001b[0;32m      4\u001b[0m \u001b[38;5;28mprint\u001b[39m(result)\n",
      "\u001b[1;31mNameError\u001b[0m: name 'check_key' is not defined"
     ]
    }
   ],
   "source": [
    "dict1 = {'name': 'Nikki' , 'age': 23, 'phone' : 19123193939}\n",
    "key = 'age'\n",
    "result = check_key(dict1 ,key)\n",
    "print(result)"
   ]
  },
  {
   "cell_type": "markdown",
   "id": "4071b998-765e-4070-b7b2-e4836525825d",
   "metadata": {},
   "source": [
    "# Write a function reverse_string that takes a string as input and returns the string reversed. "
   ]
  },
  {
   "cell_type": "markdown",
   "id": "f9044fbf-550e-4280-a6ca-675d56b489d0",
   "metadata": {},
   "source": [
    "3- Write a function reverse that takes a string as input and returns the string reversed."
   ]
  },
  {
   "cell_type": "code",
   "execution_count": 19,
   "id": "d930e431-eb09-4538-88cc-3352baa86f2f",
   "metadata": {},
   "outputs": [
    {
     "data": {
      "text/plain": [
       "'olleH'"
      ]
     },
     "execution_count": 19,
     "metadata": {},
     "output_type": "execute_result"
    }
   ],
   "source": [
    "def reverse_string(input_string):\n",
    "    return input_string[::-1]\n",
    "\n",
    "input_string = \"Hello\"\n",
    "output_string = reverse_string(input_string)\n",
    "output_string "
   ]
  }
 ],
 "metadata": {
  "kernelspec": {
   "display_name": "Python 3 (ipykernel)",
   "language": "python",
   "name": "python3"
  },
  "language_info": {
   "codemirror_mode": {
    "name": "ipython",
    "version": 3
   },
   "file_extension": ".py",
   "mimetype": "text/x-python",
   "name": "python",
   "nbconvert_exporter": "python",
   "pygments_lexer": "ipython3",
   "version": "3.12.4"
  }
 },
 "nbformat": 4,
 "nbformat_minor": 5
}
